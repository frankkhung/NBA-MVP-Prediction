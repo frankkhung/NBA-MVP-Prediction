{
 "cells": [
  {
   "cell_type": "code",
   "execution_count": 2,
   "id": "fd4c7059-4785-4f51-9ee6-65217a282235",
   "metadata": {},
   "outputs": [],
   "source": [
    "# analyze teams playing styles\n",
    "# import packages\n",
    "import pandas as pd\n",
    "import numpy as np\n",
    "from sklearn.cluster import KMeans\n",
    "\n",
    "# Load the NBA data into a pandas DataFrame\n",
    "team_stats = pd.read_csv('./data/team_stats_2022_23.csv')\n"
   ]
  },
  {
   "cell_type": "code",
   "execution_count": null,
   "id": "86d97219-705a-4466-be1d-c22ef79219f4",
   "metadata": {},
   "outputs": [],
   "source": [
    "scaler = StandardScaler()\n",
    "scaler.fit(nba_2000_18_model)\n",
    "nba_2000_18_scaled = scaler.transform(nba_2000_18_model)"
   ]
  },
  {
   "cell_type": "code",
   "execution_count": 6,
   "id": "915cad72-165b-447c-a407-668956507213",
   "metadata": {},
   "outputs": [
    {
     "data": {
      "text/plain": [
       "Index(['TEAM_ID', 'TEAM_NAME', 'GP', 'W', 'L', 'W_PCT', 'MIN', 'FGM', 'FGA',\n",
       "       'FG_PCT', 'FG3M', 'FG3A', 'FG3_PCT', 'FTM', 'FTA', 'FT_PCT', 'OREB',\n",
       "       'DREB', 'REB', 'AST', 'TOV', 'STL', 'BLK', 'BLKA', 'PF', 'PFD', 'PTS',\n",
       "       'PLUS_MINUS', 'GP_RANK', 'W_RANK', 'L_RANK', 'W_PCT_RANK', 'MIN_RANK',\n",
       "       'FGM_RANK', 'FGA_RANK', 'FG_PCT_RANK', 'FG3M_RANK', 'FG3A_RANK',\n",
       "       'FG3_PCT_RANK', 'FTM_RANK', 'FTA_RANK', 'FT_PCT_RANK', 'OREB_RANK',\n",
       "       'DREB_RANK', 'REB_RANK', 'AST_RANK', 'TOV_RANK', 'STL_RANK', 'BLK_RANK',\n",
       "       'BLKA_RANK', 'PF_RANK', 'PFD_RANK', 'PTS_RANK', 'PLUS_MINUS_RANK'],\n",
       "      dtype='object')"
      ]
     },
     "execution_count": 6,
     "metadata": {},
     "output_type": "execute_result"
    }
   ],
   "source": [
    "team_stats.columns"
   ]
  },
  {
   "cell_type": "code",
   "execution_count": null,
   "id": "5b5241dc-4944-4cd7-bd2e-3db7a89fe3e2",
   "metadata": {},
   "outputs": [],
   "source": []
  }
 ],
 "metadata": {
  "kernelspec": {
   "display_name": "Python [conda env:nba]",
   "language": "python",
   "name": "conda-env-nba-py"
  },
  "language_info": {
   "codemirror_mode": {
    "name": "ipython",
    "version": 3
   },
   "file_extension": ".py",
   "mimetype": "text/x-python",
   "name": "python",
   "nbconvert_exporter": "python",
   "pygments_lexer": "ipython3",
   "version": "3.9.15"
  }
 },
 "nbformat": 4,
 "nbformat_minor": 5
}
