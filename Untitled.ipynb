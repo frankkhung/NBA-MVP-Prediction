{
 "cells": [
  {
   "cell_type": "code",
   "execution_count": null,
   "id": "fd4c7059-4785-4f51-9ee6-65217a282235",
   "metadata": {},
   "outputs": [],
   "source": [
    "# analyze teams playing styles"
   ]
  }
 ],
 "metadata": {
  "kernelspec": {
   "display_name": "Python [conda env:nba]",
   "language": "python",
   "name": "conda-env-nba-py"
  },
  "language_info": {
   "codemirror_mode": {
    "name": "ipython",
    "version": 3
   },
   "file_extension": ".py",
   "mimetype": "text/x-python",
   "name": "python",
   "nbconvert_exporter": "python",
   "pygments_lexer": "ipython3",
   "version": "3.9.15"
  }
 },
 "nbformat": 4,
 "nbformat_minor": 5
}
