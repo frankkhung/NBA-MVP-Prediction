{
 "cells": [
  {
   "cell_type": "code",
   "execution_count": 2,
   "id": "3a450bee-0220-4d30-a878-2d569e6fa4b6",
   "metadata": {},
   "outputs": [],
   "source": [
    "# import packages for testing \n",
    "from sklearn.metrics import mean_squared_error, r2_score"
   ]
  },
  {
   "cell_type": "code",
   "execution_count": 3,
   "id": "3e4c6366-f405-4c27-91b6-c2c7878432ba",
   "metadata": {},
   "outputs": [],
   "source": [
    "# Function for metrics\n",
    "def testing_metrics(y_test, y_pred, metrics, model, season):\n",
    "    rmse = round(np.sqrt(mean_squared_error(y_test, y_pred)),3) # RMSE\n",
    "    r2 = round(r2_score(y_test, y_pred),3) # R²\n",
    "    \n",
    "    dict_met = {'Season': [season], 'Model': [model],'RMSE': [rmse],'R_Square': [r2]}\n",
    "    \n",
    "    metric = pd.DataFrame(data = dict_met)\n",
    "    metrics = pd.concat([metrics, metric])\n",
    "    metrics = metrics.reset_index(drop=True)\n",
    "    \n",
    "    return metrics"
   ]
  },
  {
   "cell_type": "code",
   "execution_count": null,
   "id": "1feb4200-e431-415e-90e3-a840588f0de5",
   "metadata": {},
   "outputs": [],
   "source": []
  }
 ],
 "metadata": {
  "kernelspec": {
   "display_name": "Python [conda env:nba]",
   "language": "python",
   "name": "conda-env-nba-py"
  },
  "language_info": {
   "codemirror_mode": {
    "name": "ipython",
    "version": 3
   },
   "file_extension": ".py",
   "mimetype": "text/x-python",
   "name": "python",
   "nbconvert_exporter": "python",
   "pygments_lexer": "ipython3",
   "version": "3.9.15"
  }
 },
 "nbformat": 4,
 "nbformat_minor": 5
}
