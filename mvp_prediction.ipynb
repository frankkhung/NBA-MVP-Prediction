{
 "cells": [
  {
   "cell_type": "code",
   "execution_count": 37,
   "id": "5acc6150-e42a-4fdf-b308-f9dd5fb1ac99",
   "metadata": {},
   "outputs": [],
   "source": [
    "# import other files\n",
    "%run validation.ipynb\n",
    "\n",
    "# import packages\n",
    "import pandas as pd\n",
    "import numpy as np\n",
    "import matplotlib.pyplot as plt\n",
    "import random\n",
    "import shap\n",
    "from sklearn.preprocessing import StandardScaler\n",
    "from sklearn.feature_selection import SelectKBest, f_regression\n",
    "from sklearn.svm import SVR\n",
    "from sklearn.ensemble import RandomForestRegressor, AdaBoostRegressor, GradientBoostingRegressor\n",
    "from sklearn.neural_network import MLPClassifier\n",
    "from sklearn.model_selection import GridSearchCV\n",
    "from sklearn.model_selection import KFold\n",
    "\n",
    "import tensorflow as tf\n",
    "from tensorflow import keras\n",
    "from tensorflow.keras import layers, regularizers\n",
    "from tensorflow.keras.callbacks import EarlyStopping\n",
    "\n",
    "# for exporting models\n",
    "import joblib"
   ]
  },
  {
   "cell_type": "code",
   "execution_count": 38,
   "id": "008c09ad-fb6e-4c2d-a440-8c2dbe4233fd",
   "metadata": {},
   "outputs": [],
   "source": [
    "random.seed(123)\n",
    "np.random.seed(123)\n",
    "tf.random.set_seed(123)"
   ]
  },
  {
   "cell_type": "code",
   "execution_count": 44,
   "id": "ec0eb02c-92a3-4b08-b664-7879347f85bb",
   "metadata": {},
   "outputs": [],
   "source": [
    "# import data from \"nba_data_collection\" stage\n",
    "all_nba_df = pd.read_csv('./data/all_stats_2000_23.csv')\n",
    "\n",
    "# clean up the unuseful columns\n",
    "all_nba_df = all_nba_df.drop(['NICKNAME', 'TEAM_ID', 'NBA_FANTASY_PTS', 'WNBA_FANTASY_PTS', 'NBA_FANTASY_PTS_RANK', 'WNBA_FANTASY_PTS_RANK', 'FGA_PG', 'FGM_PG'], axis=1)\n",
    "\n",
    "# we are trying to predict the NBA 2022-23 MVP, so isolate this season out\n",
    "nba_2023 = pd.read_csv('./data/all_stats_2000_23.csv')\n",
    "nba_2023 = nba_2023[(nba_2023['season_id']== '2022-23')].reset_index(drop=True)\n",
    "# import team stats to get Game Played stats\n",
    "team_stats_2022_23_df = pd.read_csv('./data/team_stats_2022_23.csv')\n",
    "team_stats_2022_23_df = team_stats_2022_23_df[['TEAM_ID', 'GP']]\n",
    "team_stats_2022_23_df = team_stats_2022_23_df.rename({'GP': 'team_GP'}, axis=1)\n",
    "\n",
    "nba_2023 = pd.merge(nba_2023, team_stats_2022_23_df, left_on = ['TEAM_ID'], right_on = ['TEAM_ID'], how = 'left')\n",
    "nba_2023['GP_PCT'] = nba_2023['GP']/nba_2023['team_GP']\n",
    "nba_2023 = nba_2023.drop(['NICKNAME', 'TEAM_ID', 'GP','NBA_FANTASY_PTS', 'WNBA_FANTASY_PTS', 'NBA_FANTASY_PTS_RANK', 'WNBA_FANTASY_PTS_RANK', 'team_GP', 'FGA_PG', 'FGM_PG'], axis=1)"
   ]
  },
  {
   "cell_type": "code",
   "execution_count": 45,
   "id": "79cb8503-9c1d-40f5-b6cd-972a773931bd",
   "metadata": {},
   "outputs": [],
   "source": [
    "past_mvps = pd.read_csv('./data/past_mvps_2000_22.csv')\n",
    "past_mvps = past_mvps[['Player', 'season_id', 'Share']]\n",
    "\n",
    "# left join all nba stats and mvp results\n",
    "nba_2000_22 = all_nba_df[(all_nba_df['season_id']!= '2022-23')].reset_index(drop=True)\n",
    "nba_2000_22 = pd.merge(nba_2000_22, past_mvps, left_on = ['PLAYER_NAME', 'season_id'], right_on = ['Player', 'season_id'], how = 'left')\n",
    "nba_2000_22['GP_PCT'] = nba_2000_22['GP']/82\n",
    "nba_2000_22 = nba_2000_22.drop(['Player', 'GP'], axis=1)\n",
    "nba_2000_22['Share'] = nba_2000_22['Share'].fillna(0.000)"
   ]
  },
  {
   "cell_type": "code",
   "execution_count": 46,
   "id": "1a6d3a41-e387-4cdf-9a34-76bcd449a63a",
   "metadata": {},
   "outputs": [],
   "source": [
    "# since there are approx. 450 players in the NBA per season, but not all are qualified for MVP selection. We use past MVP's lowest stats to filter players out\n",
    "# the stats we are using are the ones that show the impact of players on their teams\n",
    "# Filter:\n",
    "# winning percentage: lowest winning percentage on MVP's team in the past is 45.3%\n",
    "# minutes per game: lowest minutes per game for a MVP is 30.4 min\n",
    "# GP: lowest game played for an MVP per season is 49 per game\n",
    "# +/-: lowest +/- for an MVP is 3.1\n",
    "# offensive rating: lowest offensive rating is 104.7\n",
    "# defensive rating: highest defensive rating is 110.6\n",
    "# since we might mis-filter past MVPs out so if they had MVP shares, we still keep the players\n",
    "# &(nba_2000_22['OFF_RATING'] >= 104.7)&(nba_2000_22['DEF_RATING'] <= 110.6)\n",
    "filtered_nba_2000_22 = nba_2000_22[((nba_2000_22['W_PCT'] >= 0.453)&\n",
    "                                    (nba_2000_22['MIN'] >= 30.4)&\n",
    "                                    (nba_2000_22['GP_PCT'] >= 0.5976)&\n",
    "                                    (nba_2000_22['PLUS_MINUS'] >= 3.1)&\n",
    "                                    (nba_2000_22['OFF_RATING'] >= 104.7)&\n",
    "                                    (nba_2000_22['DEF_RATING'] <= 110.6))|(nba_2000_22['Share']>0)].reset_index(drop=True)\n",
    "nba_2023 = nba_2023[((nba_2023['W_PCT'] >= 0.453)&\n",
    "                     (nba_2023['MIN'] >= 30.4)&\n",
    "                     (nba_2023['GP_PCT'] >= 0.5976)&\n",
    "                     (nba_2023['PLUS_MINUS'] >= 3.1))].reset_index(drop=True)\n",
    "nba_2023_model = nba_2023.drop(['PLAYER_ID', 'PLAYER_NAME', 'TEAM_ABBREVIATION', 'season_id'], axis = 1)"
   ]
  },
  {
   "cell_type": "code",
   "execution_count": 47,
   "id": "44ca34fa-adc1-4c09-b33b-8f66704957c2",
   "metadata": {},
   "outputs": [],
   "source": [
    "# split training and testing data set \n",
    "# training: 2000-2018, testing: 2019-2022, predict: 2023\n",
    "# training\n",
    "nba_2000_18 = filtered_nba_2000_22.loc[(filtered_nba_2000_22['season_id'] != '2019-20') \n",
    "                         & (filtered_nba_2000_22['season_id'] != '2020-21')\n",
    "                         & (filtered_nba_2000_22['season_id'] != '2021-22')]\n",
    "\n",
    "share_2000_18 = nba_2000_18[['Share']].values.ravel()\n",
    "nba_2000_18_model = nba_2000_18.drop(['Share', 'PLAYER_ID', 'PLAYER_NAME', 'TEAM_ABBREVIATION', 'season_id'], axis = 1)\n",
    "\n",
    "# testing\n",
    "nba_2019_22 = filtered_nba_2000_22.loc[(filtered_nba_2000_22['season_id'] == '2019-20') \n",
    "                         | (filtered_nba_2000_22['season_id'] == '2020-21')\n",
    "                         | (filtered_nba_2000_22['season_id'] == '2021-22')]\n",
    "share_2019_22 = nba_2019_22[['Share']].values.ravel()\n",
    "nba_2019_22_model = nba_2019_22.drop(['Share', 'PLAYER_ID', 'PLAYER_NAME', 'TEAM_ABBREVIATION', 'season_id'], axis = 1)"
   ]
  },
  {
   "cell_type": "code",
   "execution_count": 48,
   "id": "944f3be7-9351-4adc-a174-71eab382e123",
   "metadata": {},
   "outputs": [],
   "source": [
    "# Assuming that X and y are already defined and X is a pandas DataFrame\n",
    "# StandardScaler\n",
    "scaler = StandardScaler()\n",
    "scaler.fit(nba_2000_18_model)\n",
    "nba_2000_18_scaled = scaler.transform(nba_2000_18_model)\n",
    "nba_2019_22_scaled = scaler.transform(nba_2019_22_model)\n",
    "nba_2023_scaled = scaler.transform(nba_2023_model)\n",
    "\n",
    "# SelectKBest\n",
    "k = 20 # number of top features to select\n",
    "selector = SelectKBest(f_regression, k=k)\n",
    "selector.fit(nba_2000_18_scaled, share_2000_18)\n",
    "nba_2000_18_new = selector.transform(nba_2000_18_scaled)\n",
    "nba_2019_22_new = selector.transform(nba_2019_22_scaled)\n",
    "nba_2023_new = selector.transform(nba_2023_scaled)\n",
    "\n",
    "# Get the p-values and F-scores of the selected features\n",
    "p_values = selector.pvalues_\n",
    "f_scores = selector.scores_\n",
    "selected_features = nba_2000_18_model.columns[selector.get_support()]\n",
    "\n",
    "# Print the selected feature names, F-scores and p-values\n",
    "# for feature, f_score, p_value in zip(selected_features, f_scores, p_values):\n",
    "#    print(f\"Feature: {feature}, F-score: {f_score:.2f}, p-value: {p_value:.2g}\")"
   ]
  },
  {
   "cell_type": "code",
   "execution_count": 49,
   "id": "208ec057-7ab5-4075-a908-f6de794e4373",
   "metadata": {},
   "outputs": [
    {
     "data": {
      "text/plain": [
       "Index(['FGM', 'FGA', 'FTM', 'FTA', 'TOV', 'PTS', 'DD2', 'FGM_RANK', 'FGA_RANK',\n",
       "       'TOV_RANK', 'PTS_RANK', 'AST_PCT', 'USG_PCT', 'E_USG_PCT', 'PIE',\n",
       "       'USG_PCT_RANK', 'E_USG_PCT_RANK', 'PIE_RANK', 'FGM_PG_RANK',\n",
       "       'FGA_PG_RANK'],\n",
       "      dtype='object')"
      ]
     },
     "execution_count": 49,
     "metadata": {},
     "output_type": "execute_result"
    }
   ],
   "source": [
    "selected_features"
   ]
  },
  {
   "cell_type": "code",
   "execution_count": 50,
   "id": "c115a1a7-fef0-4687-926e-a0ed6e8168f6",
   "metadata": {},
   "outputs": [],
   "source": [
    "# create an empty dictionary to store the prediction results\n",
    "test_values = {}\n",
    "trained_models = {}"
   ]
  },
  {
   "cell_type": "code",
   "execution_count": 51,
   "id": "7fd379db-d209-4bed-ab9f-d526df3be30d",
   "metadata": {},
   "outputs": [
    {
     "data": {
      "text/html": [
       "<style>#sk-container-id-1 {color: black;background-color: white;}#sk-container-id-1 pre{padding: 0;}#sk-container-id-1 div.sk-toggleable {background-color: white;}#sk-container-id-1 label.sk-toggleable__label {cursor: pointer;display: block;width: 100%;margin-bottom: 0;padding: 0.3em;box-sizing: border-box;text-align: center;}#sk-container-id-1 label.sk-toggleable__label-arrow:before {content: \"▸\";float: left;margin-right: 0.25em;color: #696969;}#sk-container-id-1 label.sk-toggleable__label-arrow:hover:before {color: black;}#sk-container-id-1 div.sk-estimator:hover label.sk-toggleable__label-arrow:before {color: black;}#sk-container-id-1 div.sk-toggleable__content {max-height: 0;max-width: 0;overflow: hidden;text-align: left;background-color: #f0f8ff;}#sk-container-id-1 div.sk-toggleable__content pre {margin: 0.2em;color: black;border-radius: 0.25em;background-color: #f0f8ff;}#sk-container-id-1 input.sk-toggleable__control:checked~div.sk-toggleable__content {max-height: 200px;max-width: 100%;overflow: auto;}#sk-container-id-1 input.sk-toggleable__control:checked~label.sk-toggleable__label-arrow:before {content: \"▾\";}#sk-container-id-1 div.sk-estimator input.sk-toggleable__control:checked~label.sk-toggleable__label {background-color: #d4ebff;}#sk-container-id-1 div.sk-label input.sk-toggleable__control:checked~label.sk-toggleable__label {background-color: #d4ebff;}#sk-container-id-1 input.sk-hidden--visually {border: 0;clip: rect(1px 1px 1px 1px);clip: rect(1px, 1px, 1px, 1px);height: 1px;margin: -1px;overflow: hidden;padding: 0;position: absolute;width: 1px;}#sk-container-id-1 div.sk-estimator {font-family: monospace;background-color: #f0f8ff;border: 1px dotted black;border-radius: 0.25em;box-sizing: border-box;margin-bottom: 0.5em;}#sk-container-id-1 div.sk-estimator:hover {background-color: #d4ebff;}#sk-container-id-1 div.sk-parallel-item::after {content: \"\";width: 100%;border-bottom: 1px solid gray;flex-grow: 1;}#sk-container-id-1 div.sk-label:hover label.sk-toggleable__label {background-color: #d4ebff;}#sk-container-id-1 div.sk-serial::before {content: \"\";position: absolute;border-left: 1px solid gray;box-sizing: border-box;top: 0;bottom: 0;left: 50%;z-index: 0;}#sk-container-id-1 div.sk-serial {display: flex;flex-direction: column;align-items: center;background-color: white;padding-right: 0.2em;padding-left: 0.2em;position: relative;}#sk-container-id-1 div.sk-item {position: relative;z-index: 1;}#sk-container-id-1 div.sk-parallel {display: flex;align-items: stretch;justify-content: center;background-color: white;position: relative;}#sk-container-id-1 div.sk-item::before, #sk-container-id-1 div.sk-parallel-item::before {content: \"\";position: absolute;border-left: 1px solid gray;box-sizing: border-box;top: 0;bottom: 0;left: 50%;z-index: -1;}#sk-container-id-1 div.sk-parallel-item {display: flex;flex-direction: column;z-index: 1;position: relative;background-color: white;}#sk-container-id-1 div.sk-parallel-item:first-child::after {align-self: flex-end;width: 50%;}#sk-container-id-1 div.sk-parallel-item:last-child::after {align-self: flex-start;width: 50%;}#sk-container-id-1 div.sk-parallel-item:only-child::after {width: 0;}#sk-container-id-1 div.sk-dashed-wrapped {border: 1px dashed gray;margin: 0 0.4em 0.5em 0.4em;box-sizing: border-box;padding-bottom: 0.4em;background-color: white;}#sk-container-id-1 div.sk-label label {font-family: monospace;font-weight: bold;display: inline-block;line-height: 1.2em;}#sk-container-id-1 div.sk-label-container {text-align: center;}#sk-container-id-1 div.sk-container {/* jupyter's `normalize.less` sets `[hidden] { display: none; }` but bootstrap.min.css set `[hidden] { display: none !important; }` so we also need the `!important` here to be able to override the default hidden behavior on the sphinx rendered scikit-learn.org. See: https://github.com/scikit-learn/scikit-learn/issues/21755 */display: inline-block !important;position: relative;}#sk-container-id-1 div.sk-text-repr-fallback {display: none;}</style><div id=\"sk-container-id-1\" class=\"sk-top-container\"><div class=\"sk-text-repr-fallback\"><pre>SVR()</pre><b>In a Jupyter environment, please rerun this cell to show the HTML representation or trust the notebook. <br />On GitHub, the HTML representation is unable to render, please try loading this page with nbviewer.org.</b></div><div class=\"sk-container\" hidden><div class=\"sk-item\"><div class=\"sk-estimator sk-toggleable\"><input class=\"sk-toggleable__control sk-hidden--visually\" id=\"sk-estimator-id-1\" type=\"checkbox\" checked><label for=\"sk-estimator-id-1\" class=\"sk-toggleable__label sk-toggleable__label-arrow\">SVR</label><div class=\"sk-toggleable__content\"><pre>SVR()</pre></div></div></div></div></div>"
      ],
      "text/plain": [
       "SVR()"
      ]
     },
     "execution_count": 51,
     "metadata": {},
     "output_type": "execute_result"
    }
   ],
   "source": [
    "# Support Vector Regression \n",
    "param_grid = {'C': [0.001,0.01,0.1,0.5,1,2,5,10],\n",
    "             'kernel': ['linear','rbf','poly'],\n",
    "             'gamma': ['scale','auto'],\n",
    "             'degree': [2,3,4],\n",
    "             'epsilon': [0.1,0.5,1]}\n",
    "model_svr = SVR()\n",
    "kf = KFold(n_splits=10, shuffle=True, random_state=1)\n",
    "grid = GridSearchCV(model_svr, param_grid, cv = kf)\n",
    "grid.fit(nba_2000_18_new, share_2000_18)\n",
    "\n",
    "# train SVR\n",
    "model_svr.fit(nba_2000_18_new, share_2000_18)"
   ]
  },
  {
   "cell_type": "code",
   "execution_count": 52,
   "id": "e3797f21-32d7-4e75-b1dd-0fc5086aea78",
   "metadata": {},
   "outputs": [
    {
     "data": {
      "text/plain": [
       "['./model/model_svr.joblib']"
      ]
     },
     "execution_count": 52,
     "metadata": {},
     "output_type": "execute_result"
    }
   ],
   "source": [
    "# save the model\n",
    "joblib.dump(model_svr, './model/model_svr.joblib')"
   ]
  },
  {
   "cell_type": "code",
   "execution_count": 53,
   "id": "5eaa0dec-8029-4a2c-bdc0-760e127b49ee",
   "metadata": {},
   "outputs": [
    {
     "data": {
      "text/html": [
       "<div>\n",
       "<style scoped>\n",
       "    .dataframe tbody tr th:only-of-type {\n",
       "        vertical-align: middle;\n",
       "    }\n",
       "\n",
       "    .dataframe tbody tr th {\n",
       "        vertical-align: top;\n",
       "    }\n",
       "\n",
       "    .dataframe thead th {\n",
       "        text-align: right;\n",
       "    }\n",
       "</style>\n",
       "<table border=\"1\" class=\"dataframe\">\n",
       "  <thead>\n",
       "    <tr style=\"text-align: right;\">\n",
       "      <th></th>\n",
       "      <th>Season</th>\n",
       "      <th>Model</th>\n",
       "      <th>RMSE</th>\n",
       "      <th>R_Square</th>\n",
       "    </tr>\n",
       "  </thead>\n",
       "  <tbody>\n",
       "    <tr>\n",
       "      <th>0</th>\n",
       "      <td>2019_22</td>\n",
       "      <td>SVR</td>\n",
       "      <td>0.14</td>\n",
       "      <td>0.634</td>\n",
       "    </tr>\n",
       "  </tbody>\n",
       "</table>\n",
       "</div>"
      ],
      "text/plain": [
       "    Season Model  RMSE  R_Square\n",
       "0  2019_22   SVR  0.14     0.634"
      ]
     },
     "execution_count": 53,
     "metadata": {},
     "output_type": "execute_result"
    }
   ],
   "source": [
    "# get test set values\n",
    "model_svr = joblib.load('./model/model_svr.joblib')\n",
    "y_pred_svr = model_svr.predict(nba_2019_22_new)\n",
    "trained_models['SVR'] = model_svr\n",
    "\n",
    "y_pred_svr = np.clip(y_pred_svr, 0, 1)\n",
    "test_values['SVR'] = y_pred_svr\n",
    "\n",
    "# test result\n",
    "svr_metrics = pd.DataFrame()\n",
    "svr_metrics = testing_metrics(share_2019_22, y_pred_svr, svr_metrics, 'SVR', '2019_22')\n",
    "svr_metrics"
   ]
  },
  {
   "cell_type": "code",
   "execution_count": 54,
   "id": "aaf64877-ea6e-4f6a-97ca-1110f469d58b",
   "metadata": {},
   "outputs": [
    {
     "data": {
      "text/html": [
       "<style>#sk-container-id-2 {color: black;background-color: white;}#sk-container-id-2 pre{padding: 0;}#sk-container-id-2 div.sk-toggleable {background-color: white;}#sk-container-id-2 label.sk-toggleable__label {cursor: pointer;display: block;width: 100%;margin-bottom: 0;padding: 0.3em;box-sizing: border-box;text-align: center;}#sk-container-id-2 label.sk-toggleable__label-arrow:before {content: \"▸\";float: left;margin-right: 0.25em;color: #696969;}#sk-container-id-2 label.sk-toggleable__label-arrow:hover:before {color: black;}#sk-container-id-2 div.sk-estimator:hover label.sk-toggleable__label-arrow:before {color: black;}#sk-container-id-2 div.sk-toggleable__content {max-height: 0;max-width: 0;overflow: hidden;text-align: left;background-color: #f0f8ff;}#sk-container-id-2 div.sk-toggleable__content pre {margin: 0.2em;color: black;border-radius: 0.25em;background-color: #f0f8ff;}#sk-container-id-2 input.sk-toggleable__control:checked~div.sk-toggleable__content {max-height: 200px;max-width: 100%;overflow: auto;}#sk-container-id-2 input.sk-toggleable__control:checked~label.sk-toggleable__label-arrow:before {content: \"▾\";}#sk-container-id-2 div.sk-estimator input.sk-toggleable__control:checked~label.sk-toggleable__label {background-color: #d4ebff;}#sk-container-id-2 div.sk-label input.sk-toggleable__control:checked~label.sk-toggleable__label {background-color: #d4ebff;}#sk-container-id-2 input.sk-hidden--visually {border: 0;clip: rect(1px 1px 1px 1px);clip: rect(1px, 1px, 1px, 1px);height: 1px;margin: -1px;overflow: hidden;padding: 0;position: absolute;width: 1px;}#sk-container-id-2 div.sk-estimator {font-family: monospace;background-color: #f0f8ff;border: 1px dotted black;border-radius: 0.25em;box-sizing: border-box;margin-bottom: 0.5em;}#sk-container-id-2 div.sk-estimator:hover {background-color: #d4ebff;}#sk-container-id-2 div.sk-parallel-item::after {content: \"\";width: 100%;border-bottom: 1px solid gray;flex-grow: 1;}#sk-container-id-2 div.sk-label:hover label.sk-toggleable__label {background-color: #d4ebff;}#sk-container-id-2 div.sk-serial::before {content: \"\";position: absolute;border-left: 1px solid gray;box-sizing: border-box;top: 0;bottom: 0;left: 50%;z-index: 0;}#sk-container-id-2 div.sk-serial {display: flex;flex-direction: column;align-items: center;background-color: white;padding-right: 0.2em;padding-left: 0.2em;position: relative;}#sk-container-id-2 div.sk-item {position: relative;z-index: 1;}#sk-container-id-2 div.sk-parallel {display: flex;align-items: stretch;justify-content: center;background-color: white;position: relative;}#sk-container-id-2 div.sk-item::before, #sk-container-id-2 div.sk-parallel-item::before {content: \"\";position: absolute;border-left: 1px solid gray;box-sizing: border-box;top: 0;bottom: 0;left: 50%;z-index: -1;}#sk-container-id-2 div.sk-parallel-item {display: flex;flex-direction: column;z-index: 1;position: relative;background-color: white;}#sk-container-id-2 div.sk-parallel-item:first-child::after {align-self: flex-end;width: 50%;}#sk-container-id-2 div.sk-parallel-item:last-child::after {align-self: flex-start;width: 50%;}#sk-container-id-2 div.sk-parallel-item:only-child::after {width: 0;}#sk-container-id-2 div.sk-dashed-wrapped {border: 1px dashed gray;margin: 0 0.4em 0.5em 0.4em;box-sizing: border-box;padding-bottom: 0.4em;background-color: white;}#sk-container-id-2 div.sk-label label {font-family: monospace;font-weight: bold;display: inline-block;line-height: 1.2em;}#sk-container-id-2 div.sk-label-container {text-align: center;}#sk-container-id-2 div.sk-container {/* jupyter's `normalize.less` sets `[hidden] { display: none; }` but bootstrap.min.css set `[hidden] { display: none !important; }` so we also need the `!important` here to be able to override the default hidden behavior on the sphinx rendered scikit-learn.org. See: https://github.com/scikit-learn/scikit-learn/issues/21755 */display: inline-block !important;position: relative;}#sk-container-id-2 div.sk-text-repr-fallback {display: none;}</style><div id=\"sk-container-id-2\" class=\"sk-top-container\"><div class=\"sk-text-repr-fallback\"><pre>GradientBoostingRegressor(learning_rate=0.05, n_estimators=40)</pre><b>In a Jupyter environment, please rerun this cell to show the HTML representation or trust the notebook. <br />On GitHub, the HTML representation is unable to render, please try loading this page with nbviewer.org.</b></div><div class=\"sk-container\" hidden><div class=\"sk-item\"><div class=\"sk-estimator sk-toggleable\"><input class=\"sk-toggleable__control sk-hidden--visually\" id=\"sk-estimator-id-2\" type=\"checkbox\" checked><label for=\"sk-estimator-id-2\" class=\"sk-toggleable__label sk-toggleable__label-arrow\">GradientBoostingRegressor</label><div class=\"sk-toggleable__content\"><pre>GradientBoostingRegressor(learning_rate=0.05, n_estimators=40)</pre></div></div></div></div></div>"
      ],
      "text/plain": [
       "GradientBoostingRegressor(learning_rate=0.05, n_estimators=40)"
      ]
     },
     "execution_count": 54,
     "metadata": {},
     "output_type": "execute_result"
    }
   ],
   "source": [
    "# Gradient Boosting\n",
    "param_grid = {'n_estimators': [10,20,30,40,50],\n",
    "                             'learning_rate': [0.01,0.05,0.1,0.2,0.5],\n",
    "                             'max_depth': [3,4,5]}\n",
    "gb_model = GradientBoostingRegressor()\n",
    "kf = KFold(n_splits=10, shuffle=True, random_state=1)\n",
    "grid = GridSearchCV(gb_model, param_grid, cv = kf)\n",
    "grid.fit(nba_2000_18_new, share_2000_18)\n",
    "model_gb = GradientBoostingRegressor(**grid.best_params_)\n",
    "\n",
    "# train Gradient Boosting\n",
    "model_gb.fit(nba_2000_18_new, share_2000_18)"
   ]
  },
  {
   "cell_type": "code",
   "execution_count": 55,
   "id": "e66b0901-10c2-47c4-8510-54b656266aff",
   "metadata": {},
   "outputs": [
    {
     "data": {
      "text/plain": [
       "['./model/model_gb.joblib']"
      ]
     },
     "execution_count": 55,
     "metadata": {},
     "output_type": "execute_result"
    }
   ],
   "source": [
    "# save the model\n",
    "joblib.dump(model_gb, './model/model_gb.joblib')"
   ]
  },
  {
   "cell_type": "code",
   "execution_count": 56,
   "id": "9c502bad-cbd4-404d-960d-e7d9ce567b31",
   "metadata": {},
   "outputs": [
    {
     "data": {
      "text/html": [
       "<div>\n",
       "<style scoped>\n",
       "    .dataframe tbody tr th:only-of-type {\n",
       "        vertical-align: middle;\n",
       "    }\n",
       "\n",
       "    .dataframe tbody tr th {\n",
       "        vertical-align: top;\n",
       "    }\n",
       "\n",
       "    .dataframe thead th {\n",
       "        text-align: right;\n",
       "    }\n",
       "</style>\n",
       "<table border=\"1\" class=\"dataframe\">\n",
       "  <thead>\n",
       "    <tr style=\"text-align: right;\">\n",
       "      <th></th>\n",
       "      <th>Season</th>\n",
       "      <th>Model</th>\n",
       "      <th>RMSE</th>\n",
       "      <th>R_Square</th>\n",
       "    </tr>\n",
       "  </thead>\n",
       "  <tbody>\n",
       "    <tr>\n",
       "      <th>0</th>\n",
       "      <td>2019_22</td>\n",
       "      <td>Gradient Boosting</td>\n",
       "      <td>0.109</td>\n",
       "      <td>0.778</td>\n",
       "    </tr>\n",
       "  </tbody>\n",
       "</table>\n",
       "</div>"
      ],
      "text/plain": [
       "    Season              Model   RMSE  R_Square\n",
       "0  2019_22  Gradient Boosting  0.109     0.778"
      ]
     },
     "execution_count": 56,
     "metadata": {},
     "output_type": "execute_result"
    }
   ],
   "source": [
    "# get test set values\n",
    "model_gb = joblib.load('./model/model_gb.joblib')\n",
    "trained_models['Gradient Boosting'] = model_gb\n",
    "\n",
    "y_pred_gb = model_gb.predict(nba_2019_22_new)\n",
    "test_values['Gradient Boosting'] = y_pred_gb\n",
    "\n",
    "# test result\n",
    "gb_metrics = pd.DataFrame()\n",
    "gb_metrics = testing_metrics(share_2019_22, y_pred_gb, gb_metrics, 'Gradient Boosting', '2019_22')\n",
    "gb_metrics"
   ]
  },
  {
   "cell_type": "code",
   "execution_count": 57,
   "id": "7f24fe89-15d4-4a7d-93b2-910be08d9dfd",
   "metadata": {
    "scrolled": true,
    "tags": []
   },
   "outputs": [
    {
     "name": "stderr",
     "output_type": "stream",
     "text": [
      "\n",
      "400 fits failed out of a total of 1600.\n",
      "The score on these train-test partitions for these parameters will be set to nan.\n",
      "If these failures are not expected, you can try to debug them by setting error_score='raise'.\n",
      "\n",
      "Below are more details about the failures:\n",
      "--------------------------------------------------------------------------------\n",
      "400 fits failed with the following error:\n",
      "Traceback (most recent call last):\n",
      "  File \"/Users/frankhung/opt/anaconda3/envs/nba/lib/python3.9/site-packages/sklearn/model_selection/_validation.py\", line 686, in _fit_and_score\n",
      "    estimator.fit(X_train, y_train, **fit_params)\n",
      "  File \"/Users/frankhung/opt/anaconda3/envs/nba/lib/python3.9/site-packages/sklearn/ensemble/_forest.py\", line 434, in fit\n",
      "    raise ValueError(\"Out of bag estimation only available if bootstrap=True\")\n",
      "ValueError: Out of bag estimation only available if bootstrap=True\n",
      "\n",
      "One or more of the test scores are non-finite: [0.3528004  0.34304945 0.3535552  0.35268493 0.36523425 0.36301869\n",
      " 0.35678165 0.35901559 0.38139622 0.3635443  0.37988671 0.36935665\n",
      " 0.37246864 0.38929457 0.36006633 0.36102695 0.36180724 0.37724234\n",
      " 0.36002998 0.37278221 0.38460173 0.36173567 0.38174239 0.37435887\n",
      " 0.37325018 0.3739032  0.35920093 0.36526331 0.38392358 0.3643156\n",
      " 0.3625922  0.37979335 0.37150066 0.35739356 0.37978666 0.38001118\n",
      " 0.37464243 0.38203624 0.37223283 0.3790295  0.38454969 0.36701435\n",
      " 0.38521564 0.37733978 0.38289757 0.38993378 0.38826405 0.38118762\n",
      " 0.3629058  0.36904707 0.37935872 0.38197766 0.3640802  0.38139\n",
      " 0.37733461 0.36625761 0.35939818 0.37660883 0.38157901 0.37619411\n",
      " 0.3768254  0.38078464 0.39068222 0.36507266 0.37396387 0.37542998\n",
      " 0.38494612 0.37426052 0.37925912 0.39770623 0.38408915 0.39300745\n",
      " 0.38956068 0.38546602 0.38121158 0.3857971  0.38412311 0.37773694\n",
      " 0.39467695 0.38029109        nan 0.32735246        nan 0.33387062\n",
      "        nan 0.33271104        nan 0.33181445        nan 0.33080989\n",
      "        nan 0.32658488        nan 0.33832607        nan 0.34534686\n",
      "        nan 0.37327099        nan 0.35184967        nan 0.36287253\n",
      "        nan 0.35254739        nan 0.34114864        nan 0.35156387\n",
      "        nan 0.34748413        nan 0.35867857        nan 0.32771606\n",
      "        nan 0.33555315        nan 0.32387125        nan 0.33354945\n",
      "        nan 0.30643916        nan 0.29795053        nan 0.30312142\n",
      "        nan 0.31413543        nan 0.26357406        nan 0.28998979\n",
      "        nan 0.26757405        nan 0.28398886        nan 0.24340576\n",
      "        nan 0.25132362        nan 0.25568943        nan 0.25866049\n",
      "        nan 0.2138697         nan 0.21232264        nan 0.21575043\n",
      "        nan 0.21523497        nan 0.12732795        nan 0.1187645\n",
      "        nan 0.1278835         nan 0.12538224]\n"
     ]
    },
    {
     "data": {
      "text/html": [
       "<style>#sk-container-id-3 {color: black;background-color: white;}#sk-container-id-3 pre{padding: 0;}#sk-container-id-3 div.sk-toggleable {background-color: white;}#sk-container-id-3 label.sk-toggleable__label {cursor: pointer;display: block;width: 100%;margin-bottom: 0;padding: 0.3em;box-sizing: border-box;text-align: center;}#sk-container-id-3 label.sk-toggleable__label-arrow:before {content: \"▸\";float: left;margin-right: 0.25em;color: #696969;}#sk-container-id-3 label.sk-toggleable__label-arrow:hover:before {color: black;}#sk-container-id-3 div.sk-estimator:hover label.sk-toggleable__label-arrow:before {color: black;}#sk-container-id-3 div.sk-toggleable__content {max-height: 0;max-width: 0;overflow: hidden;text-align: left;background-color: #f0f8ff;}#sk-container-id-3 div.sk-toggleable__content pre {margin: 0.2em;color: black;border-radius: 0.25em;background-color: #f0f8ff;}#sk-container-id-3 input.sk-toggleable__control:checked~div.sk-toggleable__content {max-height: 200px;max-width: 100%;overflow: auto;}#sk-container-id-3 input.sk-toggleable__control:checked~label.sk-toggleable__label-arrow:before {content: \"▾\";}#sk-container-id-3 div.sk-estimator input.sk-toggleable__control:checked~label.sk-toggleable__label {background-color: #d4ebff;}#sk-container-id-3 div.sk-label input.sk-toggleable__control:checked~label.sk-toggleable__label {background-color: #d4ebff;}#sk-container-id-3 input.sk-hidden--visually {border: 0;clip: rect(1px 1px 1px 1px);clip: rect(1px, 1px, 1px, 1px);height: 1px;margin: -1px;overflow: hidden;padding: 0;position: absolute;width: 1px;}#sk-container-id-3 div.sk-estimator {font-family: monospace;background-color: #f0f8ff;border: 1px dotted black;border-radius: 0.25em;box-sizing: border-box;margin-bottom: 0.5em;}#sk-container-id-3 div.sk-estimator:hover {background-color: #d4ebff;}#sk-container-id-3 div.sk-parallel-item::after {content: \"\";width: 100%;border-bottom: 1px solid gray;flex-grow: 1;}#sk-container-id-3 div.sk-label:hover label.sk-toggleable__label {background-color: #d4ebff;}#sk-container-id-3 div.sk-serial::before {content: \"\";position: absolute;border-left: 1px solid gray;box-sizing: border-box;top: 0;bottom: 0;left: 50%;z-index: 0;}#sk-container-id-3 div.sk-serial {display: flex;flex-direction: column;align-items: center;background-color: white;padding-right: 0.2em;padding-left: 0.2em;position: relative;}#sk-container-id-3 div.sk-item {position: relative;z-index: 1;}#sk-container-id-3 div.sk-parallel {display: flex;align-items: stretch;justify-content: center;background-color: white;position: relative;}#sk-container-id-3 div.sk-item::before, #sk-container-id-3 div.sk-parallel-item::before {content: \"\";position: absolute;border-left: 1px solid gray;box-sizing: border-box;top: 0;bottom: 0;left: 50%;z-index: -1;}#sk-container-id-3 div.sk-parallel-item {display: flex;flex-direction: column;z-index: 1;position: relative;background-color: white;}#sk-container-id-3 div.sk-parallel-item:first-child::after {align-self: flex-end;width: 50%;}#sk-container-id-3 div.sk-parallel-item:last-child::after {align-self: flex-start;width: 50%;}#sk-container-id-3 div.sk-parallel-item:only-child::after {width: 0;}#sk-container-id-3 div.sk-dashed-wrapped {border: 1px dashed gray;margin: 0 0.4em 0.5em 0.4em;box-sizing: border-box;padding-bottom: 0.4em;background-color: white;}#sk-container-id-3 div.sk-label label {font-family: monospace;font-weight: bold;display: inline-block;line-height: 1.2em;}#sk-container-id-3 div.sk-label-container {text-align: center;}#sk-container-id-3 div.sk-container {/* jupyter's `normalize.less` sets `[hidden] { display: none; }` but bootstrap.min.css set `[hidden] { display: none !important; }` so we also need the `!important` here to be able to override the default hidden behavior on the sphinx rendered scikit-learn.org. See: https://github.com/scikit-learn/scikit-learn/issues/21755 */display: inline-block !important;position: relative;}#sk-container-id-3 div.sk-text-repr-fallback {display: none;}</style><div id=\"sk-container-id-3\" class=\"sk-top-container\"><div class=\"sk-text-repr-fallback\"><pre>RandomForestRegressor(max_features=18, n_estimators=200)</pre><b>In a Jupyter environment, please rerun this cell to show the HTML representation or trust the notebook. <br />On GitHub, the HTML representation is unable to render, please try loading this page with nbviewer.org.</b></div><div class=\"sk-container\" hidden><div class=\"sk-item\"><div class=\"sk-estimator sk-toggleable\"><input class=\"sk-toggleable__control sk-hidden--visually\" id=\"sk-estimator-id-3\" type=\"checkbox\" checked><label for=\"sk-estimator-id-3\" class=\"sk-toggleable__label sk-toggleable__label-arrow\">RandomForestRegressor</label><div class=\"sk-toggleable__content\"><pre>RandomForestRegressor(max_features=18, n_estimators=200)</pre></div></div></div></div></div>"
      ],
      "text/plain": [
       "RandomForestRegressor(max_features=18, n_estimators=200)"
      ]
     },
     "execution_count": 57,
     "metadata": {},
     "output_type": "execute_result"
    }
   ],
   "source": [
    "# Random Forest\n",
    "param_grid = {'n_estimators': [100, 150, 200, 250],\n",
    "                             'max_features': [2, 4, 6, 8, 10, 12, 14, 16, 18, 20],\n",
    "                             'bootstrap': [True,False],\n",
    "                             'oob_score': [True,False]}\n",
    "rfc = RandomForestRegressor()\n",
    "kf = KFold(n_splits=10, shuffle=True, random_state=1)\n",
    "grid = GridSearchCV(rfc, param_grid, cv = kf)\n",
    "grid.fit(nba_2000_18_new, share_2000_18)\n",
    "model_rf = RandomForestRegressor(**grid.best_params_)\n",
    "model_rf.fit(nba_2000_18_new, share_2000_18)\n"
   ]
  },
  {
   "cell_type": "code",
   "execution_count": 58,
   "id": "bdbc4e18-ef2a-42f9-bfca-2b8bafc8cc31",
   "metadata": {},
   "outputs": [
    {
     "data": {
      "text/plain": [
       "['./model/model_rf.joblib']"
      ]
     },
     "execution_count": 58,
     "metadata": {},
     "output_type": "execute_result"
    }
   ],
   "source": [
    "# save the RF model\n",
    "joblib.dump(model_rf, './model/model_rf.joblib')"
   ]
  },
  {
   "cell_type": "code",
   "execution_count": 59,
   "id": "e212ae3a-b7a0-4a4c-9070-7fbc2bfd45a0",
   "metadata": {},
   "outputs": [
    {
     "data": {
      "text/html": [
       "<div>\n",
       "<style scoped>\n",
       "    .dataframe tbody tr th:only-of-type {\n",
       "        vertical-align: middle;\n",
       "    }\n",
       "\n",
       "    .dataframe tbody tr th {\n",
       "        vertical-align: top;\n",
       "    }\n",
       "\n",
       "    .dataframe thead th {\n",
       "        text-align: right;\n",
       "    }\n",
       "</style>\n",
       "<table border=\"1\" class=\"dataframe\">\n",
       "  <thead>\n",
       "    <tr style=\"text-align: right;\">\n",
       "      <th></th>\n",
       "      <th>Season</th>\n",
       "      <th>Model</th>\n",
       "      <th>RMSE</th>\n",
       "      <th>R_Square</th>\n",
       "    </tr>\n",
       "  </thead>\n",
       "  <tbody>\n",
       "    <tr>\n",
       "      <th>0</th>\n",
       "      <td>2019_22</td>\n",
       "      <td>Random Forest</td>\n",
       "      <td>0.123</td>\n",
       "      <td>0.72</td>\n",
       "    </tr>\n",
       "  </tbody>\n",
       "</table>\n",
       "</div>"
      ],
      "text/plain": [
       "    Season          Model   RMSE  R_Square\n",
       "0  2019_22  Random Forest  0.123      0.72"
      ]
     },
     "execution_count": 59,
     "metadata": {},
     "output_type": "execute_result"
    }
   ],
   "source": [
    "# get test set values\n",
    "# load trained data\n",
    "model_rf = joblib.load('./model/model_rf.joblib')\n",
    "trained_models['Random Forest'] = model_rf\n",
    "\n",
    "y_pred_rf = model_rf.predict(nba_2019_22_new)\n",
    "test_values['Random Forest'] = y_pred_rf\n",
    "\n",
    "# test result\n",
    "rf_metrics = pd.DataFrame()\n",
    "rf_metrics = testing_metrics(share_2019_22, y_pred_rf, rf_metrics, 'Random Forest', '2019_22')\n",
    "rf_metrics"
   ]
  },
  {
   "cell_type": "code",
   "execution_count": 76,
   "id": "f82f4dfe-ac77-41c6-9f9f-8357d25249c9",
   "metadata": {
    "scrolled": true,
    "tags": []
   },
   "outputs": [
    {
     "name": "stdout",
     "output_type": "stream",
     "text": [
      "Epoch 1/200\n",
      "57/57 [==============================] - 0s 673us/step - loss: 0.2447\n",
      "Epoch 2/200\n",
      "57/57 [==============================] - 0s 572us/step - loss: 0.1826\n",
      "Epoch 3/200\n",
      "57/57 [==============================] - 0s 595us/step - loss: 0.1506\n",
      "Epoch 4/200\n",
      "57/57 [==============================] - 0s 609us/step - loss: 0.1246\n",
      "Epoch 5/200\n",
      "57/57 [==============================] - 0s 583us/step - loss: 0.1035\n",
      "Epoch 6/200\n",
      "57/57 [==============================] - 0s 546us/step - loss: 0.0866\n",
      "Epoch 7/200\n",
      "57/57 [==============================] - 0s 567us/step - loss: 0.0734\n",
      "Epoch 8/200\n",
      "57/57 [==============================] - 0s 564us/step - loss: 0.0627\n",
      "Epoch 9/200\n",
      "57/57 [==============================] - 0s 600us/step - loss: 0.0533\n",
      "Epoch 10/200\n",
      "57/57 [==============================] - 0s 596us/step - loss: 0.0461\n",
      "Epoch 11/200\n",
      "57/57 [==============================] - 0s 626us/step - loss: 0.0400\n",
      "Epoch 12/200\n",
      "57/57 [==============================] - 0s 573us/step - loss: 0.0354\n",
      "Epoch 13/200\n",
      "57/57 [==============================] - 0s 570us/step - loss: 0.0315\n",
      "Epoch 14/200\n",
      "57/57 [==============================] - 0s 571us/step - loss: 0.0284\n",
      "Epoch 15/200\n",
      "57/57 [==============================] - 0s 557us/step - loss: 0.0256\n",
      "Epoch 16/200\n",
      "57/57 [==============================] - 0s 555us/step - loss: 0.0236\n",
      "Epoch 17/200\n",
      "57/57 [==============================] - 0s 564us/step - loss: 0.0222\n",
      "Epoch 18/200\n",
      "57/57 [==============================] - 0s 547us/step - loss: 0.0207\n",
      "Epoch 19/200\n",
      "57/57 [==============================] - 0s 563us/step - loss: 0.0194\n",
      "Epoch 20/200\n",
      "57/57 [==============================] - 0s 572us/step - loss: 0.0189\n",
      "Epoch 21/200\n",
      "57/57 [==============================] - 0s 559us/step - loss: 0.0183\n",
      "Epoch 22/200\n",
      "57/57 [==============================] - 0s 564us/step - loss: 0.0173\n",
      "Epoch 23/200\n",
      "57/57 [==============================] - 0s 555us/step - loss: 0.0172\n",
      "Epoch 24/200\n",
      "57/57 [==============================] - 0s 577us/step - loss: 0.0164\n",
      "Epoch 25/200\n",
      "57/57 [==============================] - 0s 558us/step - loss: 0.0159\n",
      "Epoch 26/200\n",
      "57/57 [==============================] - 0s 547us/step - loss: 0.0151\n",
      "Epoch 27/200\n",
      "57/57 [==============================] - 0s 581us/step - loss: 0.0150\n",
      "Epoch 28/200\n",
      "57/57 [==============================] - 0s 1ms/step - loss: 0.0149\n",
      "Epoch 29/200\n",
      "57/57 [==============================] - 0s 575us/step - loss: 0.0153\n",
      "Epoch 30/200\n",
      "57/57 [==============================] - 0s 602us/step - loss: 0.0142\n",
      "Epoch 31/200\n",
      "57/57 [==============================] - 0s 579us/step - loss: 0.0143\n",
      "Epoch 32/200\n",
      "57/57 [==============================] - 0s 574us/step - loss: 0.0141\n",
      "Epoch 33/200\n",
      "57/57 [==============================] - 0s 579us/step - loss: 0.0141\n",
      "Epoch 34/200\n",
      "57/57 [==============================] - 0s 579us/step - loss: 0.0138\n",
      "Epoch 35/200\n",
      "57/57 [==============================] - 0s 588us/step - loss: 0.0135\n",
      "Epoch 36/200\n",
      "57/57 [==============================] - 0s 587us/step - loss: 0.0137\n",
      "Epoch 37/200\n",
      "57/57 [==============================] - 0s 573us/step - loss: 0.0136\n",
      "Epoch 38/200\n",
      "57/57 [==============================] - 0s 559us/step - loss: 0.0141\n"
     ]
    },
    {
     "data": {
      "text/plain": [
       "<keras.callbacks.History at 0x7f83e03dfee0>"
      ]
     },
     "execution_count": 76,
     "metadata": {},
     "output_type": "execute_result"
    }
   ],
   "source": [
    "# NN\n",
    "# Define the neural network architecture\n",
    "df_shape = nba_2000_18_new.shape[1]\n",
    "\n",
    "# layers of NN\n",
    "np.random.seed(123)\n",
    "tf.random.set_seed(123)\n",
    "model_nn = keras.models.Sequential([keras.layers.Dense(16, activation='relu', input_shape=(df_shape,), kernel_regularizer=regularizers.l2(0.01))])\n",
    "model_nn.add(layers.Dense(1, activation='relu'))\n",
    "\n",
    "# Compile the model\n",
    "model_nn.compile(optimizer='adam', loss='MSLE')\n",
    "\n",
    "# Train the model\n",
    "early_stopping = EarlyStopping(monitor='loss', patience=3)\n",
    "model_nn.fit(nba_2000_18_new, share_2000_18, epochs=200, batch_size=10, callbacks=[early_stopping])"
   ]
  },
  {
   "cell_type": "code",
   "execution_count": 77,
   "id": "946e0a94-cb7a-470f-a9b2-8932c43c26bf",
   "metadata": {},
   "outputs": [
    {
     "name": "stdout",
     "output_type": "stream",
     "text": [
      "INFO:tensorflow:Assets written to: ram://0f3bdc24-eb45-4fd7-b522-68d7e405f6d6/assets\n"
     ]
    },
    {
     "data": {
      "text/plain": [
       "['./model/model_nn.joblib']"
      ]
     },
     "execution_count": 77,
     "metadata": {},
     "output_type": "execute_result"
    }
   ],
   "source": [
    "# save the model\n",
    "joblib.dump(model_nn, './model/model_nn.joblib')"
   ]
  },
  {
   "cell_type": "code",
   "execution_count": 78,
   "id": "21ed1986-ac8c-4f85-b925-67d2f3f0ed11",
   "metadata": {},
   "outputs": [
    {
     "name": "stdout",
     "output_type": "stream",
     "text": [
      "3/3 [==============================] - 0s 870us/step\n"
     ]
    },
    {
     "data": {
      "text/html": [
       "<div>\n",
       "<style scoped>\n",
       "    .dataframe tbody tr th:only-of-type {\n",
       "        vertical-align: middle;\n",
       "    }\n",
       "\n",
       "    .dataframe tbody tr th {\n",
       "        vertical-align: top;\n",
       "    }\n",
       "\n",
       "    .dataframe thead th {\n",
       "        text-align: right;\n",
       "    }\n",
       "</style>\n",
       "<table border=\"1\" class=\"dataframe\">\n",
       "  <thead>\n",
       "    <tr style=\"text-align: right;\">\n",
       "      <th></th>\n",
       "      <th>Season</th>\n",
       "      <th>Model</th>\n",
       "      <th>RMSE</th>\n",
       "      <th>R_Square</th>\n",
       "    </tr>\n",
       "  </thead>\n",
       "  <tbody>\n",
       "    <tr>\n",
       "      <th>0</th>\n",
       "      <td>2019_22</td>\n",
       "      <td>Neural Network</td>\n",
       "      <td>0.127</td>\n",
       "      <td>0.698</td>\n",
       "    </tr>\n",
       "  </tbody>\n",
       "</table>\n",
       "</div>"
      ],
      "text/plain": [
       "    Season           Model   RMSE  R_Square\n",
       "0  2019_22  Neural Network  0.127     0.698"
      ]
     },
     "execution_count": 78,
     "metadata": {},
     "output_type": "execute_result"
    }
   ],
   "source": [
    "# get test set values\n",
    "# load trained data\n",
    "model_nn = joblib.load('./model/model_nn.joblib')\n",
    "trained_models['Neural Network'] = model_nn\n",
    "\n",
    "# get testing result metrics\n",
    "y_pred_nn = model_nn.predict(nba_2019_22_new)\n",
    "y_pred_nn = y_pred_nn.reshape((nba_2019_22_new.shape[0],))\n",
    "test_values['Neural Network'] = y_pred_nn\n",
    "\n",
    "# test result\n",
    "nn_metrics = pd.DataFrame()\n",
    "nn_metrics = testing_metrics(share_2019_22, y_pred_nn, nn_metrics, 'Neural Network', '2019_22')\n",
    "nn_metrics"
   ]
  },
  {
   "cell_type": "code",
   "execution_count": 79,
   "id": "9996fc96-23dd-4cd8-958a-84c7249dc948",
   "metadata": {},
   "outputs": [
    {
     "data": {
      "text/html": [
       "<div>\n",
       "<style scoped>\n",
       "    .dataframe tbody tr th:only-of-type {\n",
       "        vertical-align: middle;\n",
       "    }\n",
       "\n",
       "    .dataframe tbody tr th {\n",
       "        vertical-align: top;\n",
       "    }\n",
       "\n",
       "    .dataframe thead th {\n",
       "        text-align: right;\n",
       "    }\n",
       "</style>\n",
       "<table border=\"1\" class=\"dataframe\">\n",
       "  <thead>\n",
       "    <tr style=\"text-align: right;\">\n",
       "      <th></th>\n",
       "      <th>Season</th>\n",
       "      <th>Model</th>\n",
       "      <th>RMSE</th>\n",
       "      <th>R_Square</th>\n",
       "    </tr>\n",
       "  </thead>\n",
       "  <tbody>\n",
       "    <tr>\n",
       "      <th>0</th>\n",
       "      <td>2019_22</td>\n",
       "      <td>SVR</td>\n",
       "      <td>0.140</td>\n",
       "      <td>0.634</td>\n",
       "    </tr>\n",
       "    <tr>\n",
       "      <th>1</th>\n",
       "      <td>2019_22</td>\n",
       "      <td>Gradient Boosting</td>\n",
       "      <td>0.109</td>\n",
       "      <td>0.778</td>\n",
       "    </tr>\n",
       "    <tr>\n",
       "      <th>2</th>\n",
       "      <td>2019_22</td>\n",
       "      <td>Random Forest</td>\n",
       "      <td>0.123</td>\n",
       "      <td>0.720</td>\n",
       "    </tr>\n",
       "    <tr>\n",
       "      <th>3</th>\n",
       "      <td>2019_22</td>\n",
       "      <td>Neural Network</td>\n",
       "      <td>0.127</td>\n",
       "      <td>0.698</td>\n",
       "    </tr>\n",
       "  </tbody>\n",
       "</table>\n",
       "</div>"
      ],
      "text/plain": [
       "    Season              Model   RMSE  R_Square\n",
       "0  2019_22                SVR  0.140     0.634\n",
       "1  2019_22  Gradient Boosting  0.109     0.778\n",
       "2  2019_22      Random Forest  0.123     0.720\n",
       "3  2019_22     Neural Network  0.127     0.698"
      ]
     },
     "execution_count": 79,
     "metadata": {},
     "output_type": "execute_result"
    }
   ],
   "source": [
    "metrics = pd.DataFrame()\n",
    "for key, value in test_values.items():\n",
    "    metrics = testing_metrics(share_2019_22, value, metrics, key, '2019_22')\n",
    "metrics"
   ]
  },
  {
   "cell_type": "code",
   "execution_count": 80,
   "id": "f1d56d26-9109-49b2-a035-2444b8d6a3aa",
   "metadata": {},
   "outputs": [
    {
     "name": "stdout",
     "output_type": "stream",
     "text": [
      "1/1 [==============================] - 0s 22ms/step\n"
     ]
    },
    {
     "name": "stderr",
     "output_type": "stream",
     "text": [
      "\n",
      "A value is trying to be set on a copy of a slice from a DataFrame.\n",
      "Try using .loc[row_indexer,col_indexer] = value instead\n",
      "\n",
      "See the caveats in the documentation: https://pandas.pydata.org/pandas-docs/stable/user_guide/indexing.html#returning-a-view-versus-a-copy\n"
     ]
    }
   ],
   "source": [
    "# nba 2023 MVP prediction\n",
    "results = nba_2023[['PLAYER_NAME', 'TEAM_ABBREVIATION', 'season_id']]\n",
    "mvp_prediction = {}\n",
    "for key, model in trained_models.items():\n",
    "    predicted = model.predict(nba_2023_new)\n",
    "    predicted = predicted.reshape((nba_2023_new.shape[0],))\n",
    "    \n",
    "\n",
    "    results['Predicted MVP Share'] = pd.Series(predicted).values\n",
    "    results = results.loc[(results['season_id'] == '2022-23')]\n",
    "    # get top 10 results\n",
    "    results_sorted = results.sort_values(by='Predicted MVP Share',\n",
    "                                                ascending=False).reset_index(drop=True)\n",
    "    mvp_prediction[key] = results_sorted[0:3]"
   ]
  },
  {
   "cell_type": "code",
   "execution_count": 81,
   "id": "4764f7c7-9f7a-43e6-9dc0-2baf0c5c9954",
   "metadata": {},
   "outputs": [
    {
     "data": {
      "text/plain": [
       "{'SVR':              PLAYER_NAME TEAM_ABBREVIATION season_id  Predicted MVP Share\n",
       " 0            Joel Embiid               PHI   2022-23             0.715210\n",
       " 1  Giannis Antetokounmpo               MIL   2022-23             0.640571\n",
       " 2           Nikola Jokic               DEN   2022-23             0.492012,\n",
       " 'Gradient Boosting':              PLAYER_NAME TEAM_ABBREVIATION season_id  Predicted MVP Share\n",
       " 0            Joel Embiid               PHI   2022-23             0.663202\n",
       " 1  Giannis Antetokounmpo               MIL   2022-23             0.505615\n",
       " 2           Nikola Jokic               DEN   2022-23             0.413094,\n",
       " 'Random Forest':              PLAYER_NAME TEAM_ABBREVIATION season_id  Predicted MVP Share\n",
       " 0            Joel Embiid               PHI   2022-23             0.745265\n",
       " 1  Giannis Antetokounmpo               MIL   2022-23             0.534860\n",
       " 2           Nikola Jokic               DEN   2022-23             0.386125,\n",
       " 'Neural Network':              PLAYER_NAME TEAM_ABBREVIATION season_id  Predicted MVP Share\n",
       " 0           Nikola Jokic               DEN   2022-23             0.522776\n",
       " 1  Giannis Antetokounmpo               MIL   2022-23             0.466455\n",
       " 2            Joel Embiid               PHI   2022-23             0.466386}"
      ]
     },
     "execution_count": 81,
     "metadata": {},
     "output_type": "execute_result"
    }
   ],
   "source": [
    "mvp_prediction"
   ]
  },
  {
   "cell_type": "code",
   "execution_count": 82,
   "id": "e1d0f794-3e72-4379-95db-35e52b55117c",
   "metadata": {},
   "outputs": [
    {
     "name": "stdout",
     "output_type": "stream",
     "text": [
      "3/3 [==============================] - 0s 944us/step\n"
     ]
    },
    {
     "name": "stderr",
     "output_type": "stream",
     "text": [
      "\n",
      "A value is trying to be set on a copy of a slice from a DataFrame.\n",
      "Try using .loc[row_indexer,col_indexer] = value instead\n",
      "\n",
      "See the caveats in the documentation: https://pandas.pydata.org/pandas-docs/stable/user_guide/indexing.html#returning-a-view-versus-a-copy\n",
      "\n",
      "A value is trying to be set on a copy of a slice from a DataFrame.\n",
      "Try using .loc[row_indexer,col_indexer] = value instead\n",
      "\n",
      "See the caveats in the documentation: https://pandas.pydata.org/pandas-docs/stable/user_guide/indexing.html#returning-a-view-versus-a-copy\n",
      "\n",
      "A value is trying to be set on a copy of a slice from a DataFrame.\n",
      "Try using .loc[row_indexer,col_indexer] = value instead\n",
      "\n",
      "See the caveats in the documentation: https://pandas.pydata.org/pandas-docs/stable/user_guide/indexing.html#returning-a-view-versus-a-copy\n"
     ]
    }
   ],
   "source": [
    "# nba 2019 to 2022 MVP prediction\n",
    "results = nba_2019_22[['PLAYER_NAME', 'TEAM_ABBREVIATION', 'season_id']]\n",
    "test_season_list = ['2019-20', '2020-21', '2021-22']\n",
    "model_past_mvp = {}\n",
    "for key, model in trained_models.items():\n",
    "    predicted = model.predict(nba_2019_22_new)\n",
    "    predicted = np.clip(predicted, 0, 1)\n",
    "    predicted = predicted.reshape((nba_2019_22_new.shape[0],))\n",
    "    \n",
    "    results['Predicted MVP Share'] = pd.Series(predicted).values\n",
    "    past_mvp = {}\n",
    "    for season in test_season_list:\n",
    "        season_results = results.loc[(results['season_id'] == season)]\n",
    "        season_results_sorted = season_results.sort_values(by='Predicted MVP Share',\n",
    "                                                ascending=False).reset_index(drop=True)\n",
    "        past_mvp[season] = season_results_sorted[0:3]\n",
    "    \n",
    "    model_past_mvp[key]  = past_mvp\n"
   ]
  },
  {
   "cell_type": "code",
   "execution_count": 83,
   "id": "af74920a-dca3-4d3f-aa1d-7a6635c90150",
   "metadata": {},
   "outputs": [
    {
     "data": {
      "text/plain": [
       "{'SVR': {'2019-20':              PLAYER_NAME TEAM_ABBREVIATION season_id  Predicted MVP Share\n",
       "  0  Giannis Antetokounmpo               MIL   2019-20             1.000000\n",
       "  1           James Harden               HOU   2019-20             0.523524\n",
       "  2            Luka Doncic               DAL   2019-20             0.495836,\n",
       "  '2020-21':              PLAYER_NAME TEAM_ABBREVIATION season_id  Predicted MVP Share\n",
       "  0           Nikola Jokic               DEN   2020-21             0.602186\n",
       "  1          Stephen Curry               GSW   2020-21             0.556466\n",
       "  2  Giannis Antetokounmpo               MIL   2020-21             0.543672,\n",
       "  '2021-22':              PLAYER_NAME TEAM_ABBREVIATION season_id  Predicted MVP Share\n",
       "  0           Nikola Jokic               DEN   2021-22             0.927613\n",
       "  1  Giannis Antetokounmpo               MIL   2021-22             0.685463\n",
       "  2            Joel Embiid               PHI   2021-22             0.607115},\n",
       " 'Gradient Boosting': {'2019-20':              PLAYER_NAME TEAM_ABBREVIATION season_id  Predicted MVP Share\n",
       "  0  Giannis Antetokounmpo               MIL   2019-20             0.642334\n",
       "  1           LeBron James               LAL   2019-20             0.503675\n",
       "  2           James Harden               HOU   2019-20             0.475566,\n",
       "  '2020-21':      PLAYER_NAME TEAM_ABBREVIATION season_id  Predicted MVP Share\n",
       "  0   Nikola Jokic               DEN   2020-21             0.630744\n",
       "  1    Joel Embiid               PHI   2020-21             0.623217\n",
       "  2  Stephen Curry               GSW   2020-21             0.304205,\n",
       "  '2021-22':              PLAYER_NAME TEAM_ABBREVIATION season_id  Predicted MVP Share\n",
       "  0           Nikola Jokic               DEN   2021-22             0.752097\n",
       "  1            Joel Embiid               PHI   2021-22             0.711656\n",
       "  2  Giannis Antetokounmpo               MIL   2021-22             0.651133},\n",
       " 'Random Forest': {'2019-20':              PLAYER_NAME TEAM_ABBREVIATION season_id  Predicted MVP Share\n",
       "  0  Giannis Antetokounmpo               MIL   2019-20             0.702750\n",
       "  1           James Harden               HOU   2019-20             0.483765\n",
       "  2           LeBron James               LAL   2019-20             0.482220,\n",
       "  '2020-21':      PLAYER_NAME TEAM_ABBREVIATION season_id  Predicted MVP Share\n",
       "  0   Nikola Jokic               DEN   2020-21             0.514160\n",
       "  1    Joel Embiid               PHI   2020-21             0.505410\n",
       "  2  Stephen Curry               GSW   2020-21             0.382395,\n",
       "  '2021-22':              PLAYER_NAME TEAM_ABBREVIATION season_id  Predicted MVP Share\n",
       "  0            Joel Embiid               PHI   2021-22             0.708365\n",
       "  1           Nikola Jokic               DEN   2021-22             0.671440\n",
       "  2  Giannis Antetokounmpo               MIL   2021-22             0.648630},\n",
       " 'Neural Network': {'2019-20':              PLAYER_NAME TEAM_ABBREVIATION season_id  Predicted MVP Share\n",
       "  0  Giannis Antetokounmpo               MIL   2019-20             0.666991\n",
       "  1           LeBron James               LAL   2019-20             0.383094\n",
       "  2            Luka Doncic               DAL   2019-20             0.374584,\n",
       "  '2020-21':              PLAYER_NAME TEAM_ABBREVIATION season_id  Predicted MVP Share\n",
       "  0           Nikola Jokic               DEN   2020-21             0.402310\n",
       "  1  Giannis Antetokounmpo               MIL   2020-21             0.337462\n",
       "  2            Joel Embiid               PHI   2020-21             0.310885,\n",
       "  '2021-22':              PLAYER_NAME TEAM_ABBREVIATION season_id  Predicted MVP Share\n",
       "  0           Nikola Jokic               DEN   2021-22             0.651789\n",
       "  1  Giannis Antetokounmpo               MIL   2021-22             0.457187\n",
       "  2            Joel Embiid               PHI   2021-22             0.440716}}"
      ]
     },
     "execution_count": 83,
     "metadata": {},
     "output_type": "execute_result"
    }
   ],
   "source": [
    "model_past_mvp"
   ]
  },
  {
   "cell_type": "code",
   "execution_count": 101,
   "id": "19ee24e7-0028-44db-8045-a76cb4ce91d5",
   "metadata": {},
   "outputs": [
    {
     "name": "stderr",
     "output_type": "stream",
     "text": [
      "Using 566 background data samples could cause slower run times. Consider using shap.sample(data, K) or shap.kmeans(data, K) to summarize the background as K samples.\n",
      "100%|██████████| 78/78 [28:34<00:00, 21.98s/it]\n"
     ]
    }
   ],
   "source": [
    "# variable importance\n",
    "# svr\n",
    "explainer = shap.KernelExplainer(model_svr.predict, nba_2000_18_new)\n",
    "shap_svr = explainer.shap_values(nba_2019_22_new)"
   ]
  },
  {
   "cell_type": "code",
   "execution_count": 103,
   "id": "b97d77de-b9a6-4593-9db0-3728559caffe",
   "metadata": {},
   "outputs": [
    {
     "name": "stderr",
     "output_type": "stream",
     "text": [
      "No data for colormapping provided via 'c'. Parameters 'vmin', 'vmax' will be ignored\n",
      "Matplotlib is currently using agg, which is a non-GUI backend, so cannot show the figure.\n"
     ]
    }
   ],
   "source": [
    "df = pd.DataFrame(nba_2019_22_new, columns=['FGM', 'FGA', 'FTM', 'FTA', 'TOV', 'PTS', 'DD2', 'FGM_RANK', 'FGA_RANK',\n",
    "       'TOV_RANK', 'PTS_RANK', 'AST_PCT', 'USG_PCT', 'E_USG_PCT', 'PIE',\n",
    "       'USG_PCT_RANK', 'E_USG_PCT_RANK', 'PIE_RANK', 'FGM_PG_RANK',\n",
    "       'FGA_PG_RANK'])\n",
    "feature_names = list(df.columns)\n",
    "plt.switch_backend('Agg')\n",
    "shap.summary_plot(shap_svr, df, feature_names=feature_names)\n",
    "# save the plot as an image\n",
    "plt.savefig('svr_shap_summary_plot.png')"
   ]
  },
  {
   "cell_type": "code",
   "execution_count": 85,
   "id": "e8e630b1-231f-4610-9f3a-ebe79016bfb6",
   "metadata": {},
   "outputs": [
    {
     "name": "stderr",
     "output_type": "stream",
     "text": [
      "Using 566 background data samples could cause slower run times. Consider using shap.sample(data, K) or shap.kmeans(data, K) to summarize the background as K samples.\n",
      "100%|██████████| 78/78 [04:57<00:00,  3.81s/it]\n",
      "No data for colormapping provided via 'c'. Parameters 'vmin', 'vmax' will be ignored\n"
     ]
    },
    {
     "data": {
      "image/png": "[encoded data removed]",
      "text/plain": [
       "<Figure size 800x950 with 2 Axes>"
      ]
     },
     "metadata": {},
     "output_type": "display_data"
    },
    {
     "data": {
      "text/plain": [
       "<Figure size 640x480 with 0 Axes>"
      ]
     },
     "metadata": {},
     "output_type": "display_data"
    }
   ],
   "source": [
    "# gradient boosting\n",
    "explainer = shap.KernelExplainer(model_gb.predict, nba_2000_18_new)\n",
    "shap_gb = explainer.shap_values(nba_2019_22_new)"
   ]
  },
  {
   "cell_type": "code",
   "execution_count": 104,
   "id": "d1d8e056-35d5-4fba-8434-a2efc05945a6",
   "metadata": {},
   "outputs": [
    {
     "name": "stderr",
     "output_type": "stream",
     "text": [
      "No data for colormapping provided via 'c'. Parameters 'vmin', 'vmax' will be ignored\n",
      "Matplotlib is currently using agg, which is a non-GUI backend, so cannot show the figure.\n"
     ]
    }
   ],
   "source": [
    "df = pd.DataFrame(nba_2019_22_new, columns=['FGM', 'FGA', 'FTM', 'FTA', 'TOV', 'PTS', 'DD2', 'FGM_RANK', 'FGA_RANK',\n",
    "       'TOV_RANK', 'PTS_RANK', 'AST_PCT', 'USG_PCT', 'E_USG_PCT', 'PIE',\n",
    "       'USG_PCT_RANK', 'E_USG_PCT_RANK', 'PIE_RANK', 'FGM_PG_RANK',\n",
    "       'FGA_PG_RANK'])\n",
    "feature_names = list(df.columns)\n",
    "plt.switch_backend('Agg')\n",
    "shap.summary_plot(shap_gb, df, feature_names=feature_names)\n",
    "# save the plot as an image\n",
    "plt.savefig('gb_shap_summary_plot.png')"
   ]
  },
  {
   "cell_type": "code",
   "execution_count": 86,
   "id": "d08c1b60-ed5a-489b-b18f-bebcc3f0ab3f",
   "metadata": {},
   "outputs": [
    {
     "name": "stderr",
     "output_type": "stream",
     "text": [
      "Using 566 background data samples could cause slower run times. Consider using shap.sample(data, K) or shap.kmeans(data, K) to summarize the background as K samples.\n",
      "100%|██████████| 78/78 [15:09<00:00, 11.66s/it]\n",
      "No data for colormapping provided via 'c'. Parameters 'vmin', 'vmax' will be ignored\n"
     ]
    },
    {
     "data": {
      "image/png": "[encoded data removed]",
      "text/plain": [
       "<Figure size 800x950 with 2 Axes>"
      ]
     },
     "metadata": {},
     "output_type": "display_data"
    },
    {
     "data": {
      "text/plain": [
       "<Figure size 640x480 with 0 Axes>"
      ]
     },
     "metadata": {},
     "output_type": "display_data"
    }
   ],
   "source": [
    "# random forest\n",
    "explainer = shap.KernelExplainer(model_rf.predict, nba_2000_18_new)\n",
    "shap_rf = explainer.shap_values(nba_2019_22_new)"
   ]
  },
  {
   "cell_type": "code",
   "execution_count": 105,
   "id": "a0b97af7-537a-4e3a-8601-73692d3dd95e",
   "metadata": {},
   "outputs": [
    {
     "name": "stderr",
     "output_type": "stream",
     "text": [
      "No data for colormapping provided via 'c'. Parameters 'vmin', 'vmax' will be ignored\n",
      "Matplotlib is currently using agg, which is a non-GUI backend, so cannot show the figure.\n"
     ]
    }
   ],
   "source": [
    "# save random forest SHAP value plot\n",
    "df = pd.DataFrame(nba_2019_22_new, columns=['FGM', 'FGA', 'FTM', 'FTA', 'TOV', 'PTS', 'DD2', 'FGM_RANK', 'FGA_RANK',\n",
    "       'TOV_RANK', 'PTS_RANK', 'AST_PCT', 'USG_PCT', 'E_USG_PCT', 'PIE',\n",
    "       'USG_PCT_RANK', 'E_USG_PCT_RANK', 'PIE_RANK', 'FGM_PG_RANK',\n",
    "       'FGA_PG_RANK'])\n",
    "feature_names = list(df.columns)\n",
    "plt.switch_backend('Agg')\n",
    "shap.summary_plot(shap_rf, df, feature_names=feature_names)\n",
    "# save the plot as an image\n",
    "plt.savefig('rf_shap_summary_plot.png')"
   ]
  },
  {
   "cell_type": "code",
   "execution_count": 87,
   "id": "f4a53438-5e89-4eef-ac17-bb5147f78178",
   "metadata": {
    "scrolled": true,
    "tags": []
   },
   "outputs": [
    {
     "name": "stdout",
     "output_type": "stream",
     "text": [
      "18/18 [==============================] - 0s 1ms/step\n"
     ]
    },
    {
     "name": "stderr",
     "output_type": "stream",
     "text": [
      "Using 566 background data samples could cause slower run times. Consider using shap.sample(data, K) or shap.kmeans(data, K) to summarize the background as K samples.\n",
      "  0%|          | 0/78 [00:00<?, ?it/s]"
     ]
    },
    {
     "name": "stdout",
     "output_type": "stream",
     "text": [
      "1/1 [==============================] - 0s 17ms/step\n",
      "36932/36932 [==============================] - 13s 355us/step\n"
     ]
    },
    {
     "name": "stderr",
     "output_type": "stream",
     "text": [
      "  1%|▏         | 1/78 [00:26<33:32, 26.13s/it]"
     ]
    },
    {
     "name": "stdout",
     "output_type": "stream",
     "text": [
      "1/1 [==============================] - 0s 26ms/step\n",
      "36932/36932 [==============================] - 13s 350us/step\n"
     ]
    },
    {
     "name": "stderr",
     "output_type": "stream",
     "text": [
      "  3%|▎         | 2/78 [00:47<29:33, 23.33s/it]"
     ]
    },
    {
     "name": "stdout",
     "output_type": "stream",
     "text": [
      "1/1 [==============================] - 0s 15ms/step\n",
      "36932/36932 [==============================] - 13s 352us/step\n"
     ]
    },
    {
     "name": "stderr",
     "output_type": "stream",
     "text": [
      "  4%|▍         | 3/78 [01:08<28:00, 22.41s/it]"
     ]
    },
    {
     "name": "stdout",
     "output_type": "stream",
     "text": [
      "1/1 [==============================] - 0s 14ms/step\n",
      "36932/36932 [==============================] - 13s 351us/step\n"
     ]
    },
    {
     "name": "stderr",
     "output_type": "stream",
     "text": [
      "  5%|▌         | 4/78 [01:30<27:06, 21.98s/it]"
     ]
    },
    {
     "name": "stdout",
     "output_type": "stream",
     "text": [
      "1/1 [==============================] - 0s 18ms/step\n",
      "36932/36932 [==============================] - 13s 350us/step\n"
     ]
    },
    {
     "name": "stderr",
     "output_type": "stream",
     "text": [
      "  6%|▋         | 5/78 [01:51<26:37, 21.88s/it]"
     ]
    },
    {
     "name": "stdout",
     "output_type": "stream",
     "text": [
      "1/1 [==============================] - 0s 18ms/step\n",
      "36932/36932 [==============================] - 13s 351us/step\n"
     ]
    },
    {
     "name": "stderr",
     "output_type": "stream",
     "text": [
      "  8%|▊         | 6/78 [02:13<26:01, 21.68s/it]"
     ]
    },
    {
     "name": "stdout",
     "output_type": "stream",
     "text": [
      "1/1 [==============================] - 0s 16ms/step\n",
      "36932/36932 [==============================] - 14s 374us/step\n"
     ]
    },
    {
     "name": "stderr",
     "output_type": "stream",
     "text": [
      "  9%|▉         | 7/78 [02:35<25:58, 21.95s/it]"
     ]
    },
    {
     "name": "stdout",
     "output_type": "stream",
     "text": [
      "1/1 [==============================] - 0s 20ms/step\n",
      "36932/36932 [==============================] - 15s 414us/step\n"
     ]
    },
    {
     "name": "stderr",
     "output_type": "stream",
     "text": [
      " 10%|█         | 8/78 [02:59<26:15, 22.50s/it]"
     ]
    },
    {
     "name": "stdout",
     "output_type": "stream",
     "text": [
      "1/1 [==============================] - 0s 18ms/step\n",
      "36932/36932 [==============================] - 13s 351us/step\n"
     ]
    },
    {
     "name": "stderr",
     "output_type": "stream",
     "text": [
      " 12%|█▏        | 9/78 [03:20<25:26, 22.12s/it]"
     ]
    },
    {
     "name": "stdout",
     "output_type": "stream",
     "text": [
      "1/1 [==============================] - 0s 14ms/step\n",
      "36932/36932 [==============================] - 13s 350us/step\n"
     ]
    },
    {
     "name": "stderr",
     "output_type": "stream",
     "text": [
      " 13%|█▎        | 10/78 [03:41<24:46, 21.86s/it]"
     ]
    },
    {
     "name": "stdout",
     "output_type": "stream",
     "text": [
      "1/1 [==============================] - 0s 18ms/step\n",
      "36932/36932 [==============================] - 13s 351us/step\n"
     ]
    },
    {
     "name": "stderr",
     "output_type": "stream",
     "text": [
      " 14%|█▍        | 11/78 [04:03<24:21, 21.81s/it]"
     ]
    },
    {
     "name": "stdout",
     "output_type": "stream",
     "text": [
      "1/1 [==============================] - 0s 25ms/step\n",
      "36932/36932 [==============================] - 13s 349us/step\n"
     ]
    },
    {
     "name": "stderr",
     "output_type": "stream",
     "text": [
      " 15%|█▌        | 12/78 [04:24<23:49, 21.66s/it]"
     ]
    },
    {
     "name": "stdout",
     "output_type": "stream",
     "text": [
      "1/1 [==============================] - 0s 23ms/step\n",
      "36932/36932 [==============================] - 13s 349us/step\n"
     ]
    },
    {
     "name": "stderr",
     "output_type": "stream",
     "text": [
      " 17%|█▋        | 13/78 [04:46<23:21, 21.57s/it]"
     ]
    },
    {
     "name": "stdout",
     "output_type": "stream",
     "text": [
      "1/1 [==============================] - 0s 15ms/step\n",
      "36932/36932 [==============================] - 13s 353us/step\n"
     ]
    },
    {
     "name": "stderr",
     "output_type": "stream",
     "text": [
      " 18%|█▊        | 14/78 [05:07<23:00, 21.57s/it]"
     ]
    },
    {
     "name": "stdout",
     "output_type": "stream",
     "text": [
      "1/1 [==============================] - 0s 14ms/step\n",
      "36932/36932 [==============================] - 13s 359us/step\n"
     ]
    },
    {
     "name": "stderr",
     "output_type": "stream",
     "text": [
      " 19%|█▉        | 15/78 [05:29<22:48, 21.72s/it]"
     ]
    },
    {
     "name": "stdout",
     "output_type": "stream",
     "text": [
      "1/1 [==============================] - 0s 24ms/step\n",
      "36932/36932 [==============================] - 14s 370us/step\n"
     ]
    },
    {
     "name": "stderr",
     "output_type": "stream",
     "text": [
      " 21%|██        | 16/78 [05:52<22:37, 21.90s/it]"
     ]
    },
    {
     "name": "stdout",
     "output_type": "stream",
     "text": [
      "1/1 [==============================] - 0s 15ms/step\n",
      "36932/36932 [==============================] - 13s 362us/step\n"
     ]
    },
    {
     "name": "stderr",
     "output_type": "stream",
     "text": [
      " 22%|██▏       | 17/78 [06:14<22:17, 21.92s/it]"
     ]
    },
    {
     "name": "stdout",
     "output_type": "stream",
     "text": [
      "1/1 [==============================] - 0s 18ms/step\n",
      "36932/36932 [==============================] - 14s 373us/step\n"
     ]
    },
    {
     "name": "stderr",
     "output_type": "stream",
     "text": [
      " 23%|██▎       | 18/78 [06:36<22:06, 22.11s/it]"
     ]
    },
    {
     "name": "stdout",
     "output_type": "stream",
     "text": [
      "1/1 [==============================] - 0s 20ms/step\n",
      "36932/36932 [==============================] - 14s 365us/step\n"
     ]
    },
    {
     "name": "stderr",
     "output_type": "stream",
     "text": [
      " 24%|██▍       | 19/78 [06:58<21:45, 22.12s/it]"
     ]
    },
    {
     "name": "stdout",
     "output_type": "stream",
     "text": [
      "1/1 [==============================] - 0s 22ms/step\n",
      "36932/36932 [==============================] - 13s 362us/step\n"
     ]
    },
    {
     "name": "stderr",
     "output_type": "stream",
     "text": [
      " 26%|██▌       | 20/78 [07:20<21:21, 22.09s/it]"
     ]
    },
    {
     "name": "stdout",
     "output_type": "stream",
     "text": [
      "1/1 [==============================] - 0s 18ms/step\n",
      "36932/36932 [==============================] - 13s 359us/step\n"
     ]
    },
    {
     "name": "stderr",
     "output_type": "stream",
     "text": [
      " 27%|██▋       | 21/78 [07:42<20:58, 22.09s/it]"
     ]
    },
    {
     "name": "stdout",
     "output_type": "stream",
     "text": [
      "1/1 [==============================] - 0s 18ms/step\n",
      "36932/36932 [==============================] - 13s 351us/step\n"
     ]
    },
    {
     "name": "stderr",
     "output_type": "stream",
     "text": [
      " 28%|██▊       | 22/78 [08:04<20:24, 21.86s/it]"
     ]
    },
    {
     "name": "stdout",
     "output_type": "stream",
     "text": [
      "1/1 [==============================] - 0s 14ms/step\n",
      "36932/36932 [==============================] - 13s 353us/step\n"
     ]
    },
    {
     "name": "stderr",
     "output_type": "stream",
     "text": [
      " 29%|██▉       | 23/78 [08:25<19:53, 21.71s/it]"
     ]
    },
    {
     "name": "stdout",
     "output_type": "stream",
     "text": [
      "1/1 [==============================] - 0s 20ms/step\n",
      "36932/36932 [==============================] - 13s 353us/step\n"
     ]
    },
    {
     "name": "stderr",
     "output_type": "stream",
     "text": [
      " 31%|███       | 24/78 [08:47<19:30, 21.68s/it]"
     ]
    },
    {
     "name": "stdout",
     "output_type": "stream",
     "text": [
      "1/1 [==============================] - 0s 20ms/step\n",
      "36932/36932 [==============================] - 14s 375us/step\n"
     ]
    },
    {
     "name": "stderr",
     "output_type": "stream",
     "text": [
      " 32%|███▏      | 25/78 [09:09<19:21, 21.92s/it]"
     ]
    },
    {
     "name": "stdout",
     "output_type": "stream",
     "text": [
      "1/1 [==============================] - 0s 19ms/step\n",
      "36932/36932 [==============================] - 14s 369us/step\n"
     ]
    },
    {
     "name": "stderr",
     "output_type": "stream",
     "text": [
      " 33%|███▎      | 26/78 [09:32<19:12, 22.16s/it]"
     ]
    },
    {
     "name": "stdout",
     "output_type": "stream",
     "text": [
      "1/1 [==============================] - 0s 21ms/step\n",
      "36932/36932 [==============================] - 13s 356us/step\n"
     ]
    },
    {
     "name": "stderr",
     "output_type": "stream",
     "text": [
      " 35%|███▍      | 27/78 [09:54<18:44, 22.05s/it]"
     ]
    },
    {
     "name": "stdout",
     "output_type": "stream",
     "text": [
      "1/1 [==============================] - 0s 19ms/step\n",
      "36932/36932 [==============================] - 15s 407us/step\n"
     ]
    },
    {
     "name": "stderr",
     "output_type": "stream",
     "text": [
      " 36%|███▌      | 28/78 [10:17<18:46, 22.54s/it]"
     ]
    },
    {
     "name": "stdout",
     "output_type": "stream",
     "text": [
      "1/1 [==============================] - 0s 25ms/step\n",
      "36932/36932 [==============================] - 13s 351us/step\n"
     ]
    },
    {
     "name": "stderr",
     "output_type": "stream",
     "text": [
      " 37%|███▋      | 29/78 [10:39<18:07, 22.20s/it]"
     ]
    },
    {
     "name": "stdout",
     "output_type": "stream",
     "text": [
      "1/1 [==============================] - 0s 15ms/step\n",
      "36932/36932 [==============================] - 13s 356us/step\n"
     ]
    },
    {
     "name": "stderr",
     "output_type": "stream",
     "text": [
      " 38%|███▊      | 30/78 [11:00<17:36, 22.01s/it]"
     ]
    },
    {
     "name": "stdout",
     "output_type": "stream",
     "text": [
      "1/1 [==============================] - 0s 20ms/step\n",
      "36932/36932 [==============================] - 13s 351us/step\n"
     ]
    },
    {
     "name": "stderr",
     "output_type": "stream",
     "text": [
      " 40%|███▉      | 31/78 [11:22<17:11, 21.94s/it]"
     ]
    },
    {
     "name": "stdout",
     "output_type": "stream",
     "text": [
      "1/1 [==============================] - 0s 15ms/step\n",
      "36932/36932 [==============================] - 13s 351us/step\n"
     ]
    },
    {
     "name": "stderr",
     "output_type": "stream",
     "text": [
      " 41%|████      | 32/78 [11:44<16:42, 21.79s/it]"
     ]
    },
    {
     "name": "stdout",
     "output_type": "stream",
     "text": [
      "1/1 [==============================] - 0s 16ms/step\n",
      "36932/36932 [==============================] - 13s 353us/step\n"
     ]
    },
    {
     "name": "stderr",
     "output_type": "stream",
     "text": [
      " 42%|████▏     | 33/78 [12:05<16:16, 21.69s/it]"
     ]
    },
    {
     "name": "stdout",
     "output_type": "stream",
     "text": [
      "1/1 [==============================] - 0s 14ms/step\n",
      "36932/36932 [==============================] - 13s 356us/step\n"
     ]
    },
    {
     "name": "stderr",
     "output_type": "stream",
     "text": [
      " 44%|████▎     | 34/78 [12:27<15:54, 21.69s/it]"
     ]
    },
    {
     "name": "stdout",
     "output_type": "stream",
     "text": [
      "1/1 [==============================] - 0s 21ms/step\n",
      "36932/36932 [==============================] - 14s 377us/step\n"
     ]
    },
    {
     "name": "stderr",
     "output_type": "stream",
     "text": [
      " 45%|████▍     | 35/78 [12:50<15:46, 22.02s/it]"
     ]
    },
    {
     "name": "stdout",
     "output_type": "stream",
     "text": [
      "1/1 [==============================] - 0s 21ms/step\n",
      "36932/36932 [==============================] - 13s 354us/step\n"
     ]
    },
    {
     "name": "stderr",
     "output_type": "stream",
     "text": [
      " 46%|████▌     | 36/78 [13:11<15:19, 21.89s/it]"
     ]
    },
    {
     "name": "stdout",
     "output_type": "stream",
     "text": [
      "1/1 [==============================] - 0s 14ms/step\n",
      "36932/36932 [==============================] - 13s 357us/step\n"
     ]
    },
    {
     "name": "stderr",
     "output_type": "stream",
     "text": [
      " 47%|████▋     | 37/78 [13:33<14:56, 21.88s/it]"
     ]
    },
    {
     "name": "stdout",
     "output_type": "stream",
     "text": [
      "1/1 [==============================] - 0s 19ms/step\n",
      "36932/36932 [==============================] - 14s 366us/step\n"
     ]
    },
    {
     "name": "stderr",
     "output_type": "stream",
     "text": [
      " 49%|████▊     | 38/78 [13:56<14:43, 22.10s/it]"
     ]
    },
    {
     "name": "stdout",
     "output_type": "stream",
     "text": [
      "1/1 [==============================] - 0s 22ms/step\n",
      "36932/36932 [==============================] - 14s 379us/step\n"
     ]
    },
    {
     "name": "stderr",
     "output_type": "stream",
     "text": [
      " 50%|█████     | 39/78 [14:18<14:29, 22.29s/it]"
     ]
    },
    {
     "name": "stdout",
     "output_type": "stream",
     "text": [
      "1/1 [==============================] - 0s 21ms/step\n",
      "36932/36932 [==============================] - 13s 353us/step\n"
     ]
    },
    {
     "name": "stderr",
     "output_type": "stream",
     "text": [
      " 51%|█████▏    | 40/78 [14:40<13:59, 22.08s/it]"
     ]
    },
    {
     "name": "stdout",
     "output_type": "stream",
     "text": [
      "1/1 [==============================] - 0s 21ms/step\n",
      "36932/36932 [==============================] - 13s 359us/step\n"
     ]
    },
    {
     "name": "stderr",
     "output_type": "stream",
     "text": [
      " 53%|█████▎    | 41/78 [15:02<13:39, 22.16s/it]"
     ]
    },
    {
     "name": "stdout",
     "output_type": "stream",
     "text": [
      "1/1 [==============================] - 0s 31ms/step\n",
      "36932/36932 [==============================] - 13s 355us/step\n"
     ]
    },
    {
     "name": "stderr",
     "output_type": "stream",
     "text": [
      " 54%|█████▍    | 42/78 [15:24<13:11, 21.99s/it]"
     ]
    },
    {
     "name": "stdout",
     "output_type": "stream",
     "text": [
      "1/1 [==============================] - 0s 16ms/step\n",
      "36932/36932 [==============================] - 13s 350us/step\n"
     ]
    },
    {
     "name": "stderr",
     "output_type": "stream",
     "text": [
      " 55%|█████▌    | 43/78 [15:45<12:43, 21.82s/it]"
     ]
    },
    {
     "name": "stdout",
     "output_type": "stream",
     "text": [
      "1/1 [==============================] - 0s 18ms/step\n",
      "36932/36932 [==============================] - 13s 353us/step\n"
     ]
    },
    {
     "name": "stderr",
     "output_type": "stream",
     "text": [
      " 56%|█████▋    | 44/78 [16:07<12:19, 21.76s/it]"
     ]
    },
    {
     "name": "stdout",
     "output_type": "stream",
     "text": [
      "1/1 [==============================] - 0s 16ms/step\n",
      "36932/36932 [==============================] - 13s 364us/step\n"
     ]
    },
    {
     "name": "stderr",
     "output_type": "stream",
     "text": [
      " 58%|█████▊    | 45/78 [16:29<12:01, 21.85s/it]"
     ]
    },
    {
     "name": "stdout",
     "output_type": "stream",
     "text": [
      "1/1 [==============================] - 0s 26ms/step\n",
      "36932/36932 [==============================] - 13s 353us/step\n"
     ]
    },
    {
     "name": "stderr",
     "output_type": "stream",
     "text": [
      " 59%|█████▉    | 46/78 [16:50<11:34, 21.72s/it]"
     ]
    },
    {
     "name": "stdout",
     "output_type": "stream",
     "text": [
      "1/1 [==============================] - 0s 16ms/step\n",
      "36932/36932 [==============================] - 13s 353us/step\n"
     ]
    },
    {
     "name": "stderr",
     "output_type": "stream",
     "text": [
      " 60%|██████    | 47/78 [17:12<11:09, 21.61s/it]"
     ]
    },
    {
     "name": "stdout",
     "output_type": "stream",
     "text": [
      "1/1 [==============================] - 0s 14ms/step\n",
      "36932/36932 [==============================] - 13s 354us/step\n"
     ]
    },
    {
     "name": "stderr",
     "output_type": "stream",
     "text": [
      " 62%|██████▏   | 48/78 [17:34<10:51, 21.71s/it]"
     ]
    },
    {
     "name": "stdout",
     "output_type": "stream",
     "text": [
      "1/1 [==============================] - 0s 23ms/step\n",
      "36932/36932 [==============================] - 13s 364us/step\n"
     ]
    },
    {
     "name": "stderr",
     "output_type": "stream",
     "text": [
      " 63%|██████▎   | 49/78 [17:56<10:30, 21.76s/it]"
     ]
    },
    {
     "name": "stdout",
     "output_type": "stream",
     "text": [
      "1/1 [==============================] - 0s 19ms/step\n",
      "36932/36932 [==============================] - 14s 367us/step\n"
     ]
    },
    {
     "name": "stderr",
     "output_type": "stream",
     "text": [
      " 64%|██████▍   | 50/78 [18:18<10:11, 21.85s/it]"
     ]
    },
    {
     "name": "stdout",
     "output_type": "stream",
     "text": [
      "1/1 [==============================] - 0s 25ms/step\n",
      "36932/36932 [==============================] - 13s 353us/step\n"
     ]
    },
    {
     "name": "stderr",
     "output_type": "stream",
     "text": [
      " 65%|██████▌   | 51/78 [18:39<09:47, 21.77s/it]"
     ]
    },
    {
     "name": "stdout",
     "output_type": "stream",
     "text": [
      "1/1 [==============================] - 0s 18ms/step\n",
      "36932/36932 [==============================] - 13s 361us/step\n"
     ]
    },
    {
     "name": "stderr",
     "output_type": "stream",
     "text": [
      " 67%|██████▋   | 52/78 [19:01<09:26, 21.78s/it]"
     ]
    },
    {
     "name": "stdout",
     "output_type": "stream",
     "text": [
      "1/1 [==============================] - 0s 15ms/step\n",
      "36932/36932 [==============================] - 13s 359us/step\n"
     ]
    },
    {
     "name": "stderr",
     "output_type": "stream",
     "text": [
      " 68%|██████▊   | 53/78 [19:23<09:04, 21.78s/it]"
     ]
    },
    {
     "name": "stdout",
     "output_type": "stream",
     "text": [
      "1/1 [==============================] - 0s 21ms/step\n",
      "36932/36932 [==============================] - 13s 350us/step\n"
     ]
    },
    {
     "name": "stderr",
     "output_type": "stream",
     "text": [
      " 69%|██████▉   | 54/78 [19:44<08:40, 21.68s/it]"
     ]
    },
    {
     "name": "stdout",
     "output_type": "stream",
     "text": [
      "1/1 [==============================] - 0s 28ms/step\n",
      "36932/36932 [==============================] - 14s 366us/step\n"
     ]
    },
    {
     "name": "stderr",
     "output_type": "stream",
     "text": [
      " 71%|███████   | 55/78 [20:06<08:20, 21.77s/it]"
     ]
    },
    {
     "name": "stdout",
     "output_type": "stream",
     "text": [
      "1/1 [==============================] - 0s 16ms/step\n",
      "36932/36932 [==============================] - 13s 353us/step\n"
     ]
    },
    {
     "name": "stderr",
     "output_type": "stream",
     "text": [
      " 72%|███████▏  | 56/78 [20:28<07:58, 21.73s/it]"
     ]
    },
    {
     "name": "stdout",
     "output_type": "stream",
     "text": [
      "1/1 [==============================] - 0s 22ms/step\n",
      "36932/36932 [==============================] - 13s 362us/step\n"
     ]
    },
    {
     "name": "stderr",
     "output_type": "stream",
     "text": [
      " 73%|███████▎  | 57/78 [20:50<07:37, 21.80s/it]"
     ]
    },
    {
     "name": "stdout",
     "output_type": "stream",
     "text": [
      "1/1 [==============================] - 0s 20ms/step\n",
      "36932/36932 [==============================] - 13s 361us/step\n"
     ]
    },
    {
     "name": "stderr",
     "output_type": "stream",
     "text": [
      " 74%|███████▍  | 58/78 [21:12<07:19, 21.98s/it]"
     ]
    },
    {
     "name": "stdout",
     "output_type": "stream",
     "text": [
      "1/1 [==============================] - 0s 23ms/step\n",
      "36932/36932 [==============================] - 14s 376us/step\n"
     ]
    },
    {
     "name": "stderr",
     "output_type": "stream",
     "text": [
      " 76%|███████▌  | 59/78 [21:35<07:00, 22.14s/it]"
     ]
    },
    {
     "name": "stdout",
     "output_type": "stream",
     "text": [
      "1/1 [==============================] - 0s 19ms/step\n",
      "36932/36932 [==============================] - 13s 358us/step\n"
     ]
    },
    {
     "name": "stderr",
     "output_type": "stream",
     "text": [
      " 77%|███████▋  | 60/78 [21:57<06:36, 22.02s/it]"
     ]
    },
    {
     "name": "stdout",
     "output_type": "stream",
     "text": [
      "1/1 [==============================] - 0s 21ms/step\n",
      "36932/36932 [==============================] - 14s 371us/step\n"
     ]
    },
    {
     "name": "stderr",
     "output_type": "stream",
     "text": [
      " 78%|███████▊  | 61/78 [22:19<06:17, 22.19s/it]"
     ]
    },
    {
     "name": "stdout",
     "output_type": "stream",
     "text": [
      "1/1 [==============================] - 0s 22ms/step\n",
      "36932/36932 [==============================] - 14s 366us/step\n"
     ]
    },
    {
     "name": "stderr",
     "output_type": "stream",
     "text": [
      " 79%|███████▉  | 62/78 [22:41<05:54, 22.15s/it]"
     ]
    },
    {
     "name": "stdout",
     "output_type": "stream",
     "text": [
      "1/1 [==============================] - 0s 19ms/step\n",
      "36932/36932 [==============================] - 13s 354us/step\n"
     ]
    },
    {
     "name": "stderr",
     "output_type": "stream",
     "text": [
      " 81%|████████  | 63/78 [23:03<05:29, 21.95s/it]"
     ]
    },
    {
     "name": "stdout",
     "output_type": "stream",
     "text": [
      "1/1 [==============================] - 0s 16ms/step\n",
      "36932/36932 [==============================] - 13s 351us/step\n"
     ]
    },
    {
     "name": "stderr",
     "output_type": "stream",
     "text": [
      " 82%|████████▏ | 64/78 [23:24<05:04, 21.77s/it]"
     ]
    },
    {
     "name": "stdout",
     "output_type": "stream",
     "text": [
      "1/1 [==============================] - 0s 15ms/step\n",
      "36932/36932 [==============================] - 13s 363us/step\n"
     ]
    },
    {
     "name": "stderr",
     "output_type": "stream",
     "text": [
      " 83%|████████▎ | 65/78 [23:46<04:42, 21.77s/it]"
     ]
    },
    {
     "name": "stdout",
     "output_type": "stream",
     "text": [
      "1/1 [==============================] - 0s 18ms/step\n",
      "36932/36932 [==============================] - 13s 353us/step\n"
     ]
    },
    {
     "name": "stderr",
     "output_type": "stream",
     "text": [
      " 85%|████████▍ | 66/78 [24:07<04:19, 21.64s/it]"
     ]
    },
    {
     "name": "stdout",
     "output_type": "stream",
     "text": [
      "1/1 [==============================] - 0s 16ms/step\n",
      "36932/36932 [==============================] - 13s 359us/step\n"
     ]
    },
    {
     "name": "stderr",
     "output_type": "stream",
     "text": [
      " 86%|████████▌ | 67/78 [24:29<03:59, 21.79s/it]"
     ]
    },
    {
     "name": "stdout",
     "output_type": "stream",
     "text": [
      "1/1 [==============================] - 0s 24ms/step\n",
      "36932/36932 [==============================] - 13s 356us/step\n"
     ]
    },
    {
     "name": "stderr",
     "output_type": "stream",
     "text": [
      " 87%|████████▋ | 68/78 [24:51<03:38, 21.85s/it]"
     ]
    },
    {
     "name": "stdout",
     "output_type": "stream",
     "text": [
      "1/1 [==============================] - 0s 17ms/step\n",
      "36932/36932 [==============================] - 13s 354us/step\n"
     ]
    },
    {
     "name": "stderr",
     "output_type": "stream",
     "text": [
      " 88%|████████▊ | 69/78 [25:13<03:15, 21.75s/it]"
     ]
    },
    {
     "name": "stdout",
     "output_type": "stream",
     "text": [
      "1/1 [==============================] - 0s 18ms/step\n",
      "36932/36932 [==============================] - 13s 353us/step\n"
     ]
    },
    {
     "name": "stderr",
     "output_type": "stream",
     "text": [
      " 90%|████████▉ | 70/78 [25:34<02:53, 21.69s/it]"
     ]
    },
    {
     "name": "stdout",
     "output_type": "stream",
     "text": [
      "1/1 [==============================] - 0s 16ms/step\n",
      "36932/36932 [==============================] - 13s 357us/step\n"
     ]
    },
    {
     "name": "stderr",
     "output_type": "stream",
     "text": [
      " 91%|█████████ | 71/78 [25:56<02:31, 21.69s/it]"
     ]
    },
    {
     "name": "stdout",
     "output_type": "stream",
     "text": [
      "1/1 [==============================] - 0s 15ms/step\n",
      "36932/36932 [==============================] - 14s 373us/step\n"
     ]
    },
    {
     "name": "stderr",
     "output_type": "stream",
     "text": [
      " 92%|█████████▏| 72/78 [26:18<02:11, 21.87s/it]"
     ]
    },
    {
     "name": "stdout",
     "output_type": "stream",
     "text": [
      "1/1 [==============================] - 0s 20ms/step\n",
      "36932/36932 [==============================] - 13s 352us/step\n"
     ]
    },
    {
     "name": "stderr",
     "output_type": "stream",
     "text": [
      " 94%|█████████▎| 73/78 [26:40<01:48, 21.79s/it]"
     ]
    },
    {
     "name": "stdout",
     "output_type": "stream",
     "text": [
      "1/1 [==============================] - 0s 20ms/step\n",
      "36932/36932 [==============================] - 13s 353us/step\n"
     ]
    },
    {
     "name": "stderr",
     "output_type": "stream",
     "text": [
      " 95%|█████████▍| 74/78 [27:01<01:26, 21.71s/it]"
     ]
    },
    {
     "name": "stdout",
     "output_type": "stream",
     "text": [
      "1/1 [==============================] - 0s 19ms/step\n",
      "36932/36932 [==============================] - 13s 353us/step\n"
     ]
    },
    {
     "name": "stderr",
     "output_type": "stream",
     "text": [
      " 96%|█████████▌| 75/78 [27:23<01:05, 21.79s/it]"
     ]
    },
    {
     "name": "stdout",
     "output_type": "stream",
     "text": [
      "1/1 [==============================] - 0s 19ms/step\n",
      "36932/36932 [==============================] - 14s 368us/step\n"
     ]
    },
    {
     "name": "stderr",
     "output_type": "stream",
     "text": [
      " 97%|█████████▋| 76/78 [27:46<00:43, 21.94s/it]"
     ]
    },
    {
     "name": "stdout",
     "output_type": "stream",
     "text": [
      "1/1 [==============================] - 0s 24ms/step\n",
      "36932/36932 [==============================] - 13s 362us/step\n"
     ]
    },
    {
     "name": "stderr",
     "output_type": "stream",
     "text": [
      " 99%|█████████▊| 77/78 [28:08<00:21, 21.95s/it]"
     ]
    },
    {
     "name": "stdout",
     "output_type": "stream",
     "text": [
      "1/1 [==============================] - 0s 15ms/step\n",
      "36932/36932 [==============================] - 13s 361us/step\n"
     ]
    },
    {
     "name": "stderr",
     "output_type": "stream",
     "text": [
      "100%|██████████| 78/78 [28:30<00:00, 21.93s/it]\n"
     ]
    },
    {
     "data": {
      "image/png": "[encoded data removed]",
      "text/plain": [
       "<Figure size 800x950 with 1 Axes>"
      ]
     },
     "metadata": {},
     "output_type": "display_data"
    },
    {
     "data": {
      "text/plain": [
       "<Figure size 640x480 with 0 Axes>"
      ]
     },
     "metadata": {},
     "output_type": "display_data"
    }
   ],
   "source": [
    "# neural network SHAP value\n",
    "explainer = shap.KernelExplainer(model_nn.predict, nba_2000_18_new)\n",
    "shap_nn = explainer.shap_values(nba_2019_22_new)"
   ]
  },
  {
   "cell_type": "code",
   "execution_count": 106,
   "id": "2a0bac80-77c3-43b0-960b-6df52577d6ce",
   "metadata": {},
   "outputs": [
    {
     "name": "stderr",
     "output_type": "stream",
     "text": [
      "Matplotlib is currently using agg, which is a non-GUI backend, so cannot show the figure.\n"
     ]
    }
   ],
   "source": [
    "df = pd.DataFrame(nba_2019_22_new, columns=['FGM', 'FGA', 'FTM', 'FTA', 'TOV', 'PTS', 'DD2', 'FGM_RANK', 'FGA_RANK',\n",
    "       'TOV_RANK', 'PTS_RANK', 'AST_PCT', 'USG_PCT', 'E_USG_PCT', 'PIE',\n",
    "       'USG_PCT_RANK', 'E_USG_PCT_RANK', 'PIE_RANK', 'FGM_PG_RANK',\n",
    "       'FGA_PG_RANK'])\n",
    "feature_names = list(df.columns)\n",
    "plt.switch_backend('Agg')\n",
    "shap.summary_plot(shap_nn, df, feature_names=feature_names)\n",
    "# save the plot as an image\n",
    "plt.savefig('nn_shap_summary_plot.png')"
   ]
  },
  {
   "cell_type": "code",
   "execution_count": 92,
   "id": "3268f915-b493-407e-a3a2-893a846bde68",
   "metadata": {},
   "outputs": [],
   "source": []
  },
  {
   "cell_type": "code",
   "execution_count": null,
   "id": "fa0743c1-355a-4fd1-95b7-dfd3e81c3fc4",
   "metadata": {},
   "outputs": [],
   "source": []
  }
 ],
 "metadata": {
  "kernelspec": {
   "display_name": "Python [conda env:nba]",
   "language": "python",
   "name": "conda-env-nba-py"
  },
  "language_info": {
   "codemirror_mode": {
    "name": "ipython",
    "version": 3
   },
   "file_extension": ".py",
   "mimetype": "text/x-python",
   "name": "python",
   "nbconvert_exporter": "python",
   "pygments_lexer": "ipython3",
   "version": "3.9.15"
  }
 },
 "nbformat": 4,
 "nbformat_minor": 5
}
