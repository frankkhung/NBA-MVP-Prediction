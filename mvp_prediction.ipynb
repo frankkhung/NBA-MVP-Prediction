{
 "cells": [
  {
   "cell_type": "code",
   "execution_count": 31,
   "id": "5acc6150-e42a-4fdf-b308-f9dd5fb1ac99",
   "metadata": {},
   "outputs": [],
   "source": [
    "# import other files\n",
    "%run validation.ipynb\n",
    "\n",
    "# import packages\n",
    "import pandas as pd\n",
    "import numpy as np\n",
    "import matplotlib.pyplot as plt\n",
    "import random\n",
    "import shap\n",
    "from sklearn.preprocessing import StandardScaler\n",
    "from sklearn.feature_selection import SelectKBest, f_regression\n",
    "from sklearn.svm import SVR\n",
    "from sklearn.ensemble import RandomForestRegressor, AdaBoostRegressor, GradientBoostingRegressor\n",
    "from sklearn.neural_network import MLPClassifier\n",
    "from sklearn.model_selection import GridSearchCV"
   ]
  },
  {
   "cell_type": "code",
   "execution_count": 32,
   "id": "008c09ad-fb6e-4c2d-a440-8c2dbe4233fd",
   "metadata": {},
   "outputs": [],
   "source": [
    "from tensorflow import keras\n",
    "from tensorflow.keras import layers, regularizers"
   ]
  },
  {
   "cell_type": "code",
   "execution_count": 33,
   "id": "ec0eb02c-92a3-4b08-b664-7879347f85bb",
   "metadata": {},
   "outputs": [],
   "source": [
    "# import data from \"nba_data_collection\" stage\n",
    "all_nba_df = pd.read_csv('./data/all_stats_2000_23.csv')\n",
    "\n",
    "# clean up the unuseful columns\n",
    "all_nba_df = all_nba_df.drop(['NICKNAME', 'TEAM_ID', 'NBA_FANTASY_PTS', 'WNBA_FANTASY_PTS', 'NBA_FANTASY_PTS_RANK', 'WNBA_FANTASY_PTS_RANK'], axis=1)\n",
    "\n",
    "# we are trying to predict the NBA 2022-23 MVP, so isolate this season out\n",
    "nba_2023 = pd.read_csv('./data/all_stats_2000_23.csv')\n",
    "nba_2023 = nba_2023[(nba_2023['season_id']== '2022-23')].reset_index(drop=True)\n",
    "# import team stats to get Game Played stats\n",
    "team_stats_2022_23_df = pd.read_csv('./data/team_stats_2022_23.csv')\n",
    "team_stats_2022_23_df = team_stats_2022_23_df[['TEAM_ID', 'GP']]\n",
    "team_stats_2022_23_df = team_stats_2022_23_df.rename({'GP': 'team_GP'}, axis=1)\n",
    "\n",
    "nba_2023 = pd.merge(nba_2023, team_stats_2022_23_df, left_on = ['TEAM_ID'], right_on = ['TEAM_ID'], how = 'left')\n",
    "nba_2023['GP_PCT'] = nba_2023['GP']/nba_2023['team_GP']\n",
    "nba_2023 = nba_2023.drop(['NICKNAME', 'TEAM_ID', 'GP','NBA_FANTASY_PTS', 'WNBA_FANTASY_PTS', 'NBA_FANTASY_PTS_RANK', 'WNBA_FANTASY_PTS_RANK', 'team_GP'], axis=1)"
   ]
  },
  {
   "cell_type": "code",
   "execution_count": 34,
   "id": "79cb8503-9c1d-40f5-b6cd-972a773931bd",
   "metadata": {},
   "outputs": [],
   "source": [
    "past_mvps = pd.read_csv('./data/past_mvps_2000_22.csv')\n",
    "past_mvps = past_mvps[['Player', 'season_id', 'Share']]\n",
    "\n",
    "# left join all nba stats and mvp results\n",
    "nba_2000_22 = all_nba_df[(all_nba_df['season_id']!= '2022-23')].reset_index(drop=True)\n",
    "nba_2000_22 = pd.merge(nba_2000_22, past_mvps, left_on = ['PLAYER_NAME', 'season_id'], right_on = ['Player', 'season_id'], how = 'left')\n",
    "nba_2000_22['GP_PCT'] = nba_2000_22['GP']/82\n",
    "nba_2000_22 = nba_2000_22.drop(['Player', 'GP'], axis=1)\n",
    "nba_2000_22['Share'] = nba_2000_22['Share'].fillna(0.000)"
   ]
  },
  {
   "cell_type": "code",
   "execution_count": 35,
   "id": "1a6d3a41-e387-4cdf-9a34-76bcd449a63a",
   "metadata": {},
   "outputs": [],
   "source": [
    "# since there are approx. 450 players in the NBA per season, but not all are qualified for MVP selection. We use past MVP's lowest stats to filter players out\n",
    "# the stats we are using are the ones that show the impact of players on their teams\n",
    "# Filter:\n",
    "# winning percentage: lowest winning percentage on MVP's team in the past is 45.3%\n",
    "# minutes per game: lowest minutes per game for a MVP is 30.4 min\n",
    "# GP: lowest game played for an MVP per season is 49 per game\n",
    "# +/-: lowest +/- for an MVP is 3.1\n",
    "# offensive rating: lowest offensive rating is 104.7\n",
    "# defensive rating: highest defensive rating is 110.6\n",
    "# since we might mis-filter past MVPs out so if they had MVP shares, we still keep the players\n",
    "# &(nba_2000_22['OFF_RATING'] >= 104.7)&(nba_2000_22['DEF_RATING'] <= 110.6)\n",
    "filtered_nba_2000_22 = nba_2000_22[((nba_2000_22['W_PCT'] >= 0.453)&\n",
    "                                    (nba_2000_22['MIN'] >= 30.4)&\n",
    "                                    (nba_2000_22['GP_PCT'] >= 0.5976)&\n",
    "                                    (nba_2000_22['PLUS_MINUS'] >= 3.1)&\n",
    "                                    (nba_2000_22['OFF_RATING'] >= 104.7)&\n",
    "                                    (nba_2000_22['DEF_RATING'] <= 110.6))|(nba_2000_22['Share']>0)].reset_index(drop=True)\n",
    "nba_2023 = nba_2023[((nba_2023['W_PCT'] >= 0.453)&\n",
    "                     (nba_2023['MIN'] >= 30.4)&\n",
    "                     (nba_2023['GP_PCT'] >= 0.5976)&\n",
    "                     (nba_2023['PLUS_MINUS'] >= 3.1))].reset_index(drop=True)\n",
    "nba_2023_model = nba_2023.drop(['PLAYER_ID', 'PLAYER_NAME', 'TEAM_ABBREVIATION', 'season_id'], axis = 1)"
   ]
  },
  {
   "cell_type": "code",
   "execution_count": 36,
   "id": "44ca34fa-adc1-4c09-b33b-8f66704957c2",
   "metadata": {},
   "outputs": [],
   "source": [
    "# split training and testing data set \n",
    "# training: 2000-2018, testing: 2019-2022, predict: 2023\n",
    "# training\n",
    "nba_2000_18 = filtered_nba_2000_22.loc[(filtered_nba_2000_22['season_id'] != '2019-20') \n",
    "                         & (filtered_nba_2000_22['season_id'] != '2020-21')\n",
    "                         & (filtered_nba_2000_22['season_id'] != '2021-22')]\n",
    "\n",
    "share_2000_18 = nba_2000_18[['Share']].values.ravel()\n",
    "nba_2000_18_model = nba_2000_18.drop(['Share', 'PLAYER_ID', 'PLAYER_NAME', 'TEAM_ABBREVIATION', 'season_id'], axis = 1)\n",
    "\n",
    "# testing\n",
    "nba_2019_22 = filtered_nba_2000_22.loc[(filtered_nba_2000_22['season_id'] == '2019-20') \n",
    "                         | (filtered_nba_2000_22['season_id'] == '2020-21')\n",
    "                         | (filtered_nba_2000_22['season_id'] == '2021-22')]\n",
    "share_2019_22 = nba_2019_22[['Share']].values.ravel()\n",
    "nba_2019_22_model = nba_2019_22.drop(['Share', 'PLAYER_ID', 'PLAYER_NAME', 'TEAM_ABBREVIATION', 'season_id'], axis = 1)"
   ]
  },
  {
   "cell_type": "code",
   "execution_count": 37,
   "id": "944f3be7-9351-4adc-a174-71eab382e123",
   "metadata": {},
   "outputs": [],
   "source": [
    "# Assuming that X and y are already defined and X is a pandas DataFrame\n",
    "# StandardScaler\n",
    "scaler = StandardScaler()\n",
    "scaler.fit(nba_2000_18_model)\n",
    "nba_2000_18_scaled = scaler.transform(nba_2000_18_model)\n",
    "nba_2019_22_scaled = scaler.transform(nba_2019_22_model)\n",
    "nba_2023_scaled = scaler.transform(nba_2023_model)\n",
    "\n",
    "# SelectKBest\n",
    "k = 20 # number of top features to select\n",
    "selector = SelectKBest(f_regression, k=k)\n",
    "selector.fit(nba_2000_18_scaled, share_2000_18)\n",
    "nba_2000_18_new = selector.transform(nba_2000_18_scaled)\n",
    "nba_2019_22_new = selector.transform(nba_2019_22_scaled)\n",
    "nba_2023_new = selector.transform(nba_2023_scaled)\n",
    "\n",
    "# Get the p-values and F-scores of the selected features\n",
    "p_values = selector.pvalues_\n",
    "f_scores = selector.scores_\n",
    "selected_features = nba_2000_18_model.columns[selector.get_support()]\n",
    "\n",
    "# Print the selected feature names, F-scores and p-values\n",
    "# for feature, f_score, p_value in zip(selected_features, f_scores, p_values):\n",
    "#    print(f\"Feature: {feature}, F-score: {f_score:.2f}, p-value: {p_value:.2g}\")"
   ]
  },
  {
   "cell_type": "code",
   "execution_count": 66,
   "id": "c6e7dd0a-9375-4e8e-915a-0f48fd9d01b3",
   "metadata": {},
   "outputs": [
    {
     "data": {
      "text/plain": [
       "Index(['FGM', 'FGA', 'FTM', 'FTA', 'TOV', 'PTS', 'DD2', 'FGM_RANK', 'TOV_RANK',\n",
       "       'PTS_RANK', 'AST_PCT', 'USG_PCT', 'E_USG_PCT', 'PIE', 'FGM_PG',\n",
       "       'FGA_PG', 'USG_PCT_RANK', 'E_USG_PCT_RANK', 'FGM_PG_RANK',\n",
       "       'FGA_PG_RANK'],\n",
       "      dtype='object')"
      ]
     },
     "execution_count": 66,
     "metadata": {},
     "output_type": "execute_result"
    }
   ],
   "source": [
    "selected_features"
   ]
  },
  {
   "cell_type": "code",
   "execution_count": 38,
   "id": "c115a1a7-fef0-4687-926e-a0ed6e8168f6",
   "metadata": {},
   "outputs": [],
   "source": [
    "# create an empty dictionary to store the prediction results\n",
    "test_values = {}\n",
    "trained_models = {}"
   ]
  },
  {
   "cell_type": "code",
   "execution_count": 51,
   "id": "7fd379db-d209-4bed-ab9f-d526df3be30d",
   "metadata": {},
   "outputs": [],
   "source": [
    "# Support Vector Regression \n",
    "param_grid = {'C': [0.001,0.01,0.1,0.5,1,2,5,10],\n",
    "             'kernel': ['linear','rbf','poly'],\n",
    "             'gamma': ['scale','auto'],\n",
    "             'degree': [2,3,4],\n",
    "             'epsilon': [0.1,0.5,1]}\n",
    "model_svr = SVR()\n",
    "grid = GridSearchCV(model_svr, param_grid)\n",
    "grid.fit(nba_2000_18_new, share_2000_18)\n",
    "\n",
    "# train SVR\n",
    "model_svr.fit(nba_2000_18_new, share_2000_18)\n",
    "trained_models['SVR'] = model_svr\n",
    "\n",
    "# get test set values\n",
    "y_pred_svr = model_svr.predict(nba_2019_22_new)\n",
    "y_pred_svr = np.clip(y_pred_svr, 0, 1)\n",
    "test_values['SVR'] = y_pred_svr"
   ]
  },
  {
   "cell_type": "code",
   "execution_count": 52,
   "id": "6beeecd1-14cd-43a5-aa74-37fed5475200",
   "metadata": {},
   "outputs": [
    {
     "data": {
      "text/plain": [
       "array([0.12597989, 0.04722208, 0.03961406, 0.        , 0.21452144,\n",
       "       0.        , 0.02436215, 1.        , 0.00718731, 0.01518397,\n",
       "       0.53936449, 0.0042406 , 0.00689947, 0.1103238 , 0.36167071,\n",
       "       0.02493503, 0.01187917, 0.02775173, 0.50290224, 0.4963386 ,\n",
       "       0.06733595, 0.11035602, 0.        , 0.06687488, 0.01141527,\n",
       "       0.00924919, 0.03649485, 0.02654929, 0.12214856, 0.05097349,\n",
       "       0.0912284 , 0.17282252, 0.55590549, 0.06760385, 0.08009083,\n",
       "       0.08183033, 0.46549782, 0.0113276 , 0.        , 0.04163866,\n",
       "       0.        , 0.36887264, 0.36471206, 0.09417522, 0.63917917,\n",
       "       0.        , 0.21233777, 0.08043784, 0.10671386, 0.56340033,\n",
       "       0.        , 0.02757756, 0.        , 0.05033811, 0.02927293,\n",
       "       0.01292206, 0.05412132, 0.07950338, 0.03766077, 0.69543771,\n",
       "       0.19810246, 0.        , 0.12028736, 0.01931689, 0.6122264 ,\n",
       "       0.02827228, 0.41495198, 0.        , 0.05467948, 0.5327117 ,\n",
       "       0.47737405, 0.04942417, 0.1113823 , 0.95580803, 0.        ,\n",
       "       0.11470136, 0.0613549 , 0.        ])"
      ]
     },
     "execution_count": 52,
     "metadata": {},
     "output_type": "execute_result"
    }
   ],
   "source": [
    "y_pred_svr"
   ]
  },
  {
   "cell_type": "code",
   "execution_count": 41,
   "id": "aaf64877-ea6e-4f6a-97ca-1110f469d58b",
   "metadata": {},
   "outputs": [],
   "source": [
    "# Gradient Boosting\n",
    "param_grid = {'n_estimators': [10,20,30,40,50],\n",
    "                             'learning_rate': [0.01,0.05,0.1,0.2,0.5],\n",
    "                             'max_depth': [3,4,5]}\n",
    "gb_model = GradientBoostingRegressor()\n",
    "grid = GridSearchCV(gb_model, param_grid)\n",
    "grid.fit(nba_2000_18_new, share_2000_18)\n",
    "model_gb = GradientBoostingRegressor(**grid.best_params_)\n",
    "\n",
    "\n",
    "# train Gradient Boosting\n",
    "model_gb.fit(nba_2000_18_new, share_2000_18)\n",
    "trained_models['Gradient Boosting'] = model_gb\n",
    "\n",
    "# get test set values\n",
    "y_pred_gb = model_gb.predict(nba_2019_22_new)\n",
    "test_values['Gradient Boosting'] = y_pred_gb"
   ]
  },
  {
   "cell_type": "code",
   "execution_count": 70,
   "id": "a6197214-d053-4ce8-a2ba-7650516443f4",
   "metadata": {},
   "outputs": [
    {
     "name": "stderr",
     "output_type": "stream",
     "text": [
      "Using 566 background data samples could cause slower run times. Consider using shap.sample(data, K) or shap.kmeans(data, K) to summarize the background as K samples.\n",
      "100%|██████████| 78/78 [04:49<00:00,  3.71s/it]\n",
      "No data for colormapping provided via 'c'. Parameters 'vmin', 'vmax' will be ignored\n"
     ]
    },
    {
     "data": {
      "image/png": "[encoded data removed]",
      "text/plain": [
       "<Figure size 800x950 with 2 Axes>"
      ]
     },
     "metadata": {},
     "output_type": "display_data"
    }
   ],
   "source": [
    "explainer = shap.KernelExplainer(model_gb.predict, nba_2000_18_new)\n",
    "shap_gb = explainer.shap_values(nba_2019_22_new)\n",
    "df = pd.DataFrame(nba_2019_22_new, columns=['FGM', 'FGA', 'FTM', 'FTA', 'TOV', 'PTS', 'DD2', 'FGM_RANK', 'TOV_RANK',\n",
    "       'PTS_RANK', 'AST_PCT', 'USG_PCT', 'E_USG_PCT', 'PIE', 'FGM_PG',\n",
    "       'FGA_PG', 'USG_PCT_RANK', 'E_USG_PCT_RANK', 'FGM_PG_RANK',\n",
    "       'FGA_PG_RANK'])\n",
    "feature_names = list(df.columns)\n",
    "shap.summary_plot(shap_gb, df, feature_names=feature_names)"
   ]
  },
  {
   "cell_type": "code",
   "execution_count": 42,
   "id": "7f24fe89-15d4-4a7d-93b2-910be08d9dfd",
   "metadata": {},
   "outputs": [
    {
     "name": "stderr",
     "output_type": "stream",
     "text": [
      "Some inputs do not have OOB scores. This probably means too few trees were used to compute any reliable OOB estimates.\n",
      "Some inputs do not have OOB scores. This probably means too few trees were used to compute any reliable OOB estimates.\n",
      "Some inputs do not have OOB scores. This probably means too few trees were used to compute any reliable OOB estimates.\n",
      "Some inputs do not have OOB scores. This probably means too few trees were used to compute any reliable OOB estimates.\n",
      "Some inputs do not have OOB scores. This probably means too few trees were used to compute any reliable OOB estimates.\n",
      "Some inputs do not have OOB scores. This probably means too few trees were used to compute any reliable OOB estimates.\n",
      "Some inputs do not have OOB scores. This probably means too few trees were used to compute any reliable OOB estimates.\n",
      "Some inputs do not have OOB scores. This probably means too few trees were used to compute any reliable OOB estimates.\n",
      "Some inputs do not have OOB scores. This probably means too few trees were used to compute any reliable OOB estimates.\n",
      "\n",
      "140 fits failed out of a total of 560.\n",
      "The score on these train-test partitions for these parameters will be set to nan.\n",
      "If these failures are not expected, you can try to debug them by setting error_score='raise'.\n",
      "\n",
      "Below are more details about the failures:\n",
      "--------------------------------------------------------------------------------\n",
      "140 fits failed with the following error:\n",
      "Traceback (most recent call last):\n",
      "  File \"/Users/frankhung/opt/anaconda3/envs/nba/lib/python3.9/site-packages/sklearn/model_selection/_validation.py\", line 686, in _fit_and_score\n",
      "    estimator.fit(X_train, y_train, **fit_params)\n",
      "  File \"/Users/frankhung/opt/anaconda3/envs/nba/lib/python3.9/site-packages/sklearn/ensemble/_forest.py\", line 434, in fit\n",
      "    raise ValueError(\"Out of bag estimation only available if bootstrap=True\")\n",
      "ValueError: Out of bag estimation only available if bootstrap=True\n",
      "\n",
      "One or more of the test scores are non-finite: [0.35898031 0.37613811 0.37005778 0.3743471  0.37936912 0.37734927\n",
      " 0.37696669 0.38429688 0.40156305 0.3880268  0.38638894 0.3872117\n",
      " 0.38719682 0.38410393 0.33632644 0.38625603 0.38384338 0.37693984\n",
      " 0.4049515  0.39842809 0.39124777 0.4045627  0.39352942 0.4093982\n",
      " 0.41473647 0.39508446 0.40207444 0.40964399 0.38354571 0.41089725\n",
      " 0.39998837 0.40123611 0.41033853 0.39904876 0.41125036 0.41636964\n",
      " 0.41229309 0.42194535 0.42543454 0.42469355 0.41720915 0.41909156\n",
      " 0.35542579 0.38022362 0.38864812 0.42318948 0.42223882 0.43939354\n",
      " 0.42591465 0.40933858 0.41876149 0.41389256 0.43268507 0.42391692\n",
      " 0.42127158 0.42131527        nan 0.35248083        nan 0.36418391\n",
      "        nan 0.36380205        nan 0.35103783        nan 0.37733986\n",
      "        nan 0.38276592        nan 0.37286361        nan 0.3455283\n",
      "        nan 0.35086414        nan 0.35187765        nan 0.38751669\n",
      "        nan 0.37686206        nan 0.38722835        nan 0.38550211\n",
      "        nan 0.32835807        nan 0.35550842        nan 0.36728047\n",
      "        nan 0.37067184        nan 0.38445607        nan 0.39395179\n",
      "        nan 0.39143133        nan 0.35150679        nan 0.33568477\n",
      "        nan 0.3800605         nan 0.38869033        nan 0.39181694\n",
      "        nan 0.40461643        nan 0.4006232 ]\n"
     ]
    }
   ],
   "source": [
    "# Random Forest\n",
    "param_grid = {'n_estimators': [15,25,50,64,100,150,200],\n",
    "                             'max_features': [2,3,4,5],\n",
    "                             'bootstrap': [True,False],\n",
    "                             'oob_score': [True,False]}\n",
    "rfc = RandomForestRegressor()\n",
    "grid = GridSearchCV(rfc, param_grid)\n",
    "grid.fit(nba_2000_18_new, share_2000_18)\n",
    "model_rf = RandomForestRegressor(**grid.best_params_)\n",
    "\n",
    "\n",
    "model_rf.fit(nba_2000_18_new, share_2000_18)\n",
    "trained_models['Random Forest'] = model_rf\n",
    "\n",
    "# get test set values\n",
    "y_pred_rf = model_rf.predict(nba_2019_22_new)\n",
    "test_values['Random Forest'] = y_pred_rf"
   ]
  },
  {
   "cell_type": "code",
   "execution_count": 60,
   "id": "fad5a761-690b-4117-9440-adcfe8437154",
   "metadata": {},
   "outputs": [
    {
     "name": "stderr",
     "output_type": "stream",
     "text": [
      "Using 566 background data samples could cause slower run times. Consider using shap.sample(data, K) or shap.kmeans(data, K) to summarize the background as K samples.\n",
      "100%|██████████| 78/78 [07:21<00:00,  5.66s/it]\n"
     ]
    }
   ],
   "source": [
    "explainer = shap.KernelExplainer(model_rf.predict, nba_2000_18_new)\n",
    "shap_rf = explainer.shap_values(nba_2019_22_new)\n",
    "df = pd.DataFrame(nba_2019_22_new, columns=['FGM', 'FGA', 'FTM', 'FTA', 'TOV', 'PTS', 'DD2', 'FGM_RANK', 'TOV_RANK',\n",
    "       'PTS_RANK', 'AST_PCT', 'USG_PCT', 'E_USG_PCT', 'PIE', 'FGM_PG',\n",
    "       'FGA_PG', 'USG_PCT_RANK', 'E_USG_PCT_RANK', 'FGM_PG_RANK',\n",
    "       'FGA_PG_RANK'])\n",
    "feature_names = list(df.columns)\n",
    "shap.summary_plot(shap_rf, df, feature_names=feature_names)"
   ]
  },
  {
   "cell_type": "code",
   "execution_count": 55,
   "id": "f82f4dfe-ac77-41c6-9f9f-8357d25249c9",
   "metadata": {},
   "outputs": [
    {
     "name": "stdout",
     "output_type": "stream",
     "text": [
      "Epoch 1/100\n",
      "18/18 [==============================] - 0s 768us/step - loss: 0.1877\n",
      "Epoch 2/100\n",
      "18/18 [==============================] - 0s 644us/step - loss: 0.0981\n",
      "Epoch 3/100\n",
      "18/18 [==============================] - 0s 694us/step - loss: 0.0750\n",
      "Epoch 4/100\n",
      "18/18 [==============================] - 0s 687us/step - loss: 0.0681\n",
      "Epoch 5/100\n",
      "18/18 [==============================] - 0s 756us/step - loss: 0.0646\n",
      "Epoch 6/100\n",
      "18/18 [==============================] - 0s 659us/step - loss: 0.0611\n",
      "Epoch 7/100\n",
      "18/18 [==============================] - 0s 616us/step - loss: 0.0590\n",
      "Epoch 8/100\n",
      "18/18 [==============================] - 0s 609us/step - loss: 0.0571\n",
      "Epoch 9/100\n",
      "18/18 [==============================] - 0s 737us/step - loss: 0.0557\n",
      "Epoch 10/100\n",
      "18/18 [==============================] - 0s 707us/step - loss: 0.0567\n",
      "Epoch 11/100\n",
      "18/18 [==============================] - 0s 686us/step - loss: 0.0537\n",
      "Epoch 12/100\n",
      "18/18 [==============================] - 0s 634us/step - loss: 0.0523\n",
      "Epoch 13/100\n",
      "18/18 [==============================] - 0s 2ms/step - loss: 0.0519\n",
      "Epoch 14/100\n",
      "18/18 [==============================] - 0s 667us/step - loss: 0.0534\n",
      "Epoch 15/100\n",
      "18/18 [==============================] - 0s 691us/step - loss: 0.0504\n",
      "Epoch 16/100\n",
      "18/18 [==============================] - 0s 706us/step - loss: 0.0490\n",
      "Epoch 17/100\n",
      "18/18 [==============================] - 0s 659us/step - loss: 0.0495\n",
      "Epoch 18/100\n",
      "18/18 [==============================] - 0s 647us/step - loss: 0.0489\n",
      "Epoch 19/100\n",
      "18/18 [==============================] - 0s 685us/step - loss: 0.0486\n",
      "Epoch 20/100\n",
      "18/18 [==============================] - 0s 675us/step - loss: 0.0467\n",
      "Epoch 21/100\n",
      "18/18 [==============================] - 0s 699us/step - loss: 0.0468\n",
      "Epoch 22/100\n",
      "18/18 [==============================] - 0s 654us/step - loss: 0.0464\n",
      "Epoch 23/100\n",
      "18/18 [==============================] - 0s 662us/step - loss: 0.0464\n",
      "Epoch 24/100\n",
      "18/18 [==============================] - 0s 886us/step - loss: 0.0446\n",
      "Epoch 25/100\n",
      "18/18 [==============================] - 0s 599us/step - loss: 0.0454\n",
      "Epoch 26/100\n",
      "18/18 [==============================] - 0s 646us/step - loss: 0.0462\n",
      "Epoch 27/100\n",
      "18/18 [==============================] - 0s 653us/step - loss: 0.0446\n",
      "Epoch 28/100\n",
      "18/18 [==============================] - 0s 670us/step - loss: 0.0443\n",
      "Epoch 29/100\n",
      "18/18 [==============================] - 0s 623us/step - loss: 0.0437\n",
      "Epoch 30/100\n",
      "18/18 [==============================] - 0s 594us/step - loss: 0.0431\n",
      "Epoch 31/100\n",
      "18/18 [==============================] - 0s 680us/step - loss: 0.0424\n",
      "Epoch 32/100\n",
      "18/18 [==============================] - 0s 664us/step - loss: 0.0425\n",
      "Epoch 33/100\n",
      "18/18 [==============================] - 0s 643us/step - loss: 0.0424\n",
      "Epoch 34/100\n",
      "18/18 [==============================] - 0s 606us/step - loss: 0.0417\n",
      "Epoch 35/100\n",
      "18/18 [==============================] - 0s 707us/step - loss: 0.0414\n",
      "Epoch 36/100\n",
      "18/18 [==============================] - 0s 683us/step - loss: 0.0413\n",
      "Epoch 37/100\n",
      "18/18 [==============================] - 0s 639us/step - loss: 0.0403\n",
      "Epoch 38/100\n",
      "18/18 [==============================] - 0s 731us/step - loss: 0.0403\n",
      "Epoch 39/100\n",
      "18/18 [==============================] - 0s 633us/step - loss: 0.0402\n",
      "Epoch 40/100\n",
      "18/18 [==============================] - 0s 693us/step - loss: 0.0393\n",
      "Epoch 41/100\n",
      "18/18 [==============================] - 0s 687us/step - loss: 0.0390\n",
      "Epoch 42/100\n",
      "18/18 [==============================] - 0s 662us/step - loss: 0.0392\n",
      "Epoch 43/100\n",
      "18/18 [==============================] - 0s 605us/step - loss: 0.0387\n",
      "Epoch 44/100\n",
      "18/18 [==============================] - 0s 619us/step - loss: 0.0389\n",
      "Epoch 45/100\n",
      "18/18 [==============================] - 0s 682us/step - loss: 0.0389\n",
      "Epoch 46/100\n",
      "18/18 [==============================] - 0s 667us/step - loss: 0.0383\n",
      "Epoch 47/100\n",
      "18/18 [==============================] - 0s 635us/step - loss: 0.0386\n",
      "Epoch 48/100\n",
      "18/18 [==============================] - 0s 589us/step - loss: 0.0387\n",
      "Epoch 49/100\n",
      "18/18 [==============================] - 0s 684us/step - loss: 0.0370\n",
      "Epoch 50/100\n",
      "18/18 [==============================] - 0s 694us/step - loss: 0.0379\n",
      "Epoch 51/100\n",
      "18/18 [==============================] - 0s 642us/step - loss: 0.0378\n",
      "Epoch 52/100\n",
      "18/18 [==============================] - 0s 611us/step - loss: 0.0393\n",
      "Epoch 53/100\n",
      "18/18 [==============================] - 0s 648us/step - loss: 0.0378\n",
      "Epoch 54/100\n",
      "18/18 [==============================] - 0s 648us/step - loss: 0.0379\n",
      "Epoch 55/100\n",
      "18/18 [==============================] - 0s 618us/step - loss: 0.0376\n",
      "Epoch 56/100\n",
      "18/18 [==============================] - 0s 610us/step - loss: 0.0362\n",
      "Epoch 57/100\n",
      "18/18 [==============================] - 0s 582us/step - loss: 0.0365\n",
      "Epoch 58/100\n",
      "18/18 [==============================] - 0s 617us/step - loss: 0.0360\n",
      "Epoch 59/100\n",
      "18/18 [==============================] - 0s 678us/step - loss: 0.0363\n",
      "Epoch 60/100\n",
      "18/18 [==============================] - 0s 599us/step - loss: 0.0379\n",
      "Epoch 61/100\n",
      "18/18 [==============================] - 0s 652us/step - loss: 0.0368\n",
      "Epoch 62/100\n",
      "18/18 [==============================] - 0s 602us/step - loss: 0.0349\n",
      "Epoch 63/100\n",
      "18/18 [==============================] - 0s 664us/step - loss: 0.0351\n",
      "Epoch 64/100\n",
      "18/18 [==============================] - 0s 619us/step - loss: 0.0344\n",
      "Epoch 65/100\n",
      "18/18 [==============================] - 0s 635us/step - loss: 0.0348\n",
      "Epoch 66/100\n",
      "18/18 [==============================] - 0s 1ms/step - loss: 0.0340\n",
      "Epoch 67/100\n",
      "18/18 [==============================] - 0s 705us/step - loss: 0.0333\n",
      "Epoch 68/100\n",
      "18/18 [==============================] - 0s 668us/step - loss: 0.0332\n",
      "Epoch 69/100\n",
      "18/18 [==============================] - 0s 626us/step - loss: 0.0336\n",
      "Epoch 70/100\n",
      "18/18 [==============================] - 0s 612us/step - loss: 0.0344\n",
      "Epoch 71/100\n",
      "18/18 [==============================] - 0s 628us/step - loss: 0.0329\n",
      "Epoch 72/100\n",
      "18/18 [==============================] - 0s 679us/step - loss: 0.0332\n",
      "Epoch 73/100\n",
      "18/18 [==============================] - 0s 651us/step - loss: 0.0345\n",
      "Epoch 74/100\n",
      "18/18 [==============================] - 0s 599us/step - loss: 0.0323\n",
      "Epoch 75/100\n",
      "18/18 [==============================] - 0s 661us/step - loss: 0.0318\n",
      "Epoch 76/100\n",
      "18/18 [==============================] - 0s 744us/step - loss: 0.0324\n",
      "Epoch 77/100\n",
      "18/18 [==============================] - 0s 675us/step - loss: 0.0319\n",
      "Epoch 78/100\n",
      "18/18 [==============================] - 0s 643us/step - loss: 0.0315\n",
      "Epoch 79/100\n",
      "18/18 [==============================] - 0s 620us/step - loss: 0.0315\n",
      "Epoch 80/100\n",
      "18/18 [==============================] - 0s 604us/step - loss: 0.0311\n",
      "Epoch 81/100\n",
      "18/18 [==============================] - 0s 679us/step - loss: 0.0307\n",
      "Epoch 82/100\n",
      "18/18 [==============================] - 0s 623us/step - loss: 0.0326\n",
      "Epoch 83/100\n",
      "18/18 [==============================] - 0s 607us/step - loss: 0.0325\n",
      "Epoch 84/100\n",
      "18/18 [==============================] - 0s 592us/step - loss: 0.0316\n",
      "Epoch 85/100\n",
      "18/18 [==============================] - 0s 749us/step - loss: 0.0305\n",
      "Epoch 86/100\n",
      "18/18 [==============================] - 0s 652us/step - loss: 0.0305\n",
      "Epoch 87/100\n",
      "18/18 [==============================] - 0s 634us/step - loss: 0.0308\n",
      "Epoch 88/100\n",
      "18/18 [==============================] - 0s 608us/step - loss: 0.0312\n",
      "Epoch 89/100\n",
      "18/18 [==============================] - 0s 618us/step - loss: 0.0309\n",
      "Epoch 90/100\n",
      "18/18 [==============================] - 0s 649us/step - loss: 0.0302\n",
      "Epoch 91/100\n",
      "18/18 [==============================] - 0s 634us/step - loss: 0.0297\n",
      "Epoch 92/100\n",
      "18/18 [==============================] - 0s 595us/step - loss: 0.0315\n",
      "Epoch 93/100\n",
      "18/18 [==============================] - 0s 576us/step - loss: 0.0317\n",
      "Epoch 94/100\n",
      "18/18 [==============================] - 0s 586us/step - loss: 0.0291\n",
      "Epoch 95/100\n",
      "18/18 [==============================] - 0s 616us/step - loss: 0.0302\n",
      "Epoch 96/100\n",
      "18/18 [==============================] - 0s 623us/step - loss: 0.0300\n",
      "Epoch 97/100\n",
      "18/18 [==============================] - 0s 590us/step - loss: 0.0297\n",
      "Epoch 98/100\n",
      "18/18 [==============================] - 0s 657us/step - loss: 0.0288\n",
      "Epoch 99/100\n",
      "18/18 [==============================] - 0s 584us/step - loss: 0.0282\n",
      "Epoch 100/100\n",
      "18/18 [==============================] - 0s 628us/step - loss: 0.0291\n",
      "3/3 [==============================] - 0s 893us/step\n"
     ]
    }
   ],
   "source": [
    "# NN\n",
    "# Define the neural network architecture\n",
    "df_shape = nba_2000_18_new.shape[1]\n",
    "\n",
    "# layers of NN\n",
    "model_nn = keras.models.Sequential([keras.layers.Dense(64, activation='relu',input_shape=(df_shape,), kernel_regularizer=regularizers.l2(0.001))])\n",
    "model_nn.add(layers.Dense(1, activation='linear'))\n",
    "\n",
    "# Compile the model\n",
    "model_nn.compile(optimizer='adam', loss='mse')\n",
    "\n",
    "# Train the model\n",
    "model_nn.fit(nba_2000_18_new, share_2000_18, epochs=100)\n",
    "trained_models['Neural Network'] = model_nn\n",
    "\n",
    "# get test set values\n",
    "y_pred_nn = model_nn.predict(nba_2019_22_new)\n",
    "y_pred_nn = y_pred_nn.reshape((nba_2019_22_new.shape[0],))\n",
    "test_values['Neural Network'] = y_pred_nn"
   ]
  },
  {
   "cell_type": "code",
   "execution_count": null,
   "id": "5aa6f274-e944-4130-9f82-5fa313f8fbf1",
   "metadata": {},
   "outputs": [
    {
     "name": "stdout",
     "output_type": "stream",
     "text": [
      "18/18 [==============================] - 0s 509us/step\n"
     ]
    },
    {
     "name": "stderr",
     "output_type": "stream",
     "text": [
      "Using 566 background data samples could cause slower run times. Consider using shap.sample(data, K) or shap.kmeans(data, K) to summarize the background as K samples.\n",
      "  0%|          | 0/78 [00:00<?, ?it/s]"
     ]
    },
    {
     "name": "stdout",
     "output_type": "stream",
     "text": [
      "1/1 [==============================] - 0s 18ms/step\n",
      "36932/36932 [==============================] - 13s 346us/step\n"
     ]
    },
    {
     "name": "stderr",
     "output_type": "stream",
     "text": [
      "  1%|▏         | 1/78 [00:24<32:01, 24.96s/it]"
     ]
    },
    {
     "name": "stdout",
     "output_type": "stream",
     "text": [
      "1/1 [==============================] - 0s 26ms/step\n",
      "36932/36932 [==============================] - 13s 346us/step\n"
     ]
    },
    {
     "name": "stderr",
     "output_type": "stream",
     "text": [
      "  3%|▎         | 2/78 [00:46<29:02, 22.92s/it]"
     ]
    },
    {
     "name": "stdout",
     "output_type": "stream",
     "text": [
      "1/1 [==============================] - 0s 18ms/step\n",
      "36932/36932 [==============================] - 13s 354us/step\n"
     ]
    },
    {
     "name": "stderr",
     "output_type": "stream",
     "text": [
      "  4%|▍         | 3/78 [01:08<28:00, 22.41s/it]"
     ]
    },
    {
     "name": "stdout",
     "output_type": "stream",
     "text": [
      "1/1 [==============================] - 0s 18ms/step\n",
      "36932/36932 [==============================] - 13s 362us/step\n"
     ]
    },
    {
     "name": "stderr",
     "output_type": "stream",
     "text": [
      "  5%|▌         | 4/78 [01:30<27:27, 22.27s/it]"
     ]
    },
    {
     "name": "stdout",
     "output_type": "stream",
     "text": [
      "1/1 [==============================] - 0s 18ms/step\n",
      "36932/36932 [==============================] - 14s 368us/step\n"
     ]
    },
    {
     "name": "stderr",
     "output_type": "stream",
     "text": [
      "  6%|▋         | 5/78 [01:52<27:10, 22.33s/it]"
     ]
    },
    {
     "name": "stdout",
     "output_type": "stream",
     "text": [
      "1/1 [==============================] - 0s 17ms/step\n",
      "36932/36932 [==============================] - 13s 348us/step\n"
     ]
    },
    {
     "name": "stderr",
     "output_type": "stream",
     "text": [
      "  8%|▊         | 6/78 [02:14<26:43, 22.27s/it]"
     ]
    },
    {
     "name": "stdout",
     "output_type": "stream",
     "text": [
      "1/1 [==============================] - 0s 19ms/step\n",
      "36932/36932 [==============================] - 13s 347us/step\n"
     ]
    },
    {
     "name": "stderr",
     "output_type": "stream",
     "text": [
      "  9%|▉         | 7/78 [02:36<26:02, 22.00s/it]"
     ]
    },
    {
     "name": "stdout",
     "output_type": "stream",
     "text": [
      "1/1 [==============================] - 0s 15ms/step\n",
      "36932/36932 [==============================] - 13s 343us/step\n"
     ]
    },
    {
     "name": "stderr",
     "output_type": "stream",
     "text": [
      " 10%|█         | 8/78 [02:57<25:28, 21.83s/it]"
     ]
    },
    {
     "name": "stdout",
     "output_type": "stream",
     "text": [
      "1/1 [==============================] - 0s 15ms/step\n",
      "36932/36932 [==============================] - 13s 340us/step\n"
     ]
    },
    {
     "name": "stderr",
     "output_type": "stream",
     "text": [
      " 12%|█▏        | 9/78 [03:19<24:53, 21.64s/it]"
     ]
    },
    {
     "name": "stdout",
     "output_type": "stream",
     "text": [
      "1/1 [==============================] - 0s 14ms/step\n",
      "36932/36932 [==============================] - 13s 353us/step\n"
     ]
    },
    {
     "name": "stderr",
     "output_type": "stream",
     "text": [
      " 13%|█▎        | 10/78 [03:40<24:35, 21.70s/it]"
     ]
    },
    {
     "name": "stdout",
     "output_type": "stream",
     "text": [
      "1/1 [==============================] - 0s 19ms/step\n",
      "36932/36932 [==============================] - 13s 343us/step\n"
     ]
    }
   ],
   "source": [
    "explainer = shap.KernelExplainer(model_nn.predict, nba_2000_18_new)\n",
    "shap_nn = explainer.shap_values(nba_2019_22_new)\n",
    "df = pd.DataFrame(nba_2019_22_new, columns=['FGM', 'FGA', 'FTM', 'FTA', 'TOV', 'PTS', 'DD2', 'FGM_RANK', 'TOV_RANK',\n",
    "       'PTS_RANK', 'AST_PCT', 'USG_PCT', 'E_USG_PCT', 'PIE', 'FGM_PG',\n",
    "       'FGA_PG', 'USG_PCT_RANK', 'E_USG_PCT_RANK', 'FGM_PG_RANK',\n",
    "       'FGA_PG_RANK'])\n",
    "feature_names = list(df.columns)\n",
    "shap.summary_plot(shap_nn, df, feature_names=feature_names)"
   ]
  },
  {
   "cell_type": "code",
   "execution_count": 56,
   "id": "9996fc96-23dd-4cd8-958a-84c7249dc948",
   "metadata": {},
   "outputs": [
    {
     "data": {
      "text/html": [
       "<div>\n",
       "<style scoped>\n",
       "    .dataframe tbody tr th:only-of-type {\n",
       "        vertical-align: middle;\n",
       "    }\n",
       "\n",
       "    .dataframe tbody tr th {\n",
       "        vertical-align: top;\n",
       "    }\n",
       "\n",
       "    .dataframe thead th {\n",
       "        text-align: right;\n",
       "    }\n",
       "</style>\n",
       "<table border=\"1\" class=\"dataframe\">\n",
       "  <thead>\n",
       "    <tr style=\"text-align: right;\">\n",
       "      <th></th>\n",
       "      <th>Season</th>\n",
       "      <th>Model</th>\n",
       "      <th>RMSE</th>\n",
       "      <th>R_Square</th>\n",
       "    </tr>\n",
       "  </thead>\n",
       "  <tbody>\n",
       "    <tr>\n",
       "      <th>0</th>\n",
       "      <td>2019_22</td>\n",
       "      <td>SVR</td>\n",
       "      <td>0.141</td>\n",
       "      <td>0.629</td>\n",
       "    </tr>\n",
       "    <tr>\n",
       "      <th>1</th>\n",
       "      <td>2019_22</td>\n",
       "      <td>Gradient Boosting</td>\n",
       "      <td>0.106</td>\n",
       "      <td>0.789</td>\n",
       "    </tr>\n",
       "    <tr>\n",
       "      <th>2</th>\n",
       "      <td>2019_22</td>\n",
       "      <td>Random Forest</td>\n",
       "      <td>0.127</td>\n",
       "      <td>0.700</td>\n",
       "    </tr>\n",
       "    <tr>\n",
       "      <th>3</th>\n",
       "      <td>2019_22</td>\n",
       "      <td>Neural Network</td>\n",
       "      <td>0.169</td>\n",
       "      <td>0.465</td>\n",
       "    </tr>\n",
       "  </tbody>\n",
       "</table>\n",
       "</div>"
      ],
      "text/plain": [
       "    Season              Model   RMSE  R_Square\n",
       "0  2019_22                SVR  0.141     0.629\n",
       "1  2019_22  Gradient Boosting  0.106     0.789\n",
       "2  2019_22      Random Forest  0.127     0.700\n",
       "3  2019_22     Neural Network  0.169     0.465"
      ]
     },
     "execution_count": 56,
     "metadata": {},
     "output_type": "execute_result"
    }
   ],
   "source": [
    "metrics = pd.DataFrame()\n",
    "for key, value in test_values.items():\n",
    "    metrics = testing_metrics(share_2019_22, value, metrics, key, '2019_22')\n",
    "metrics"
   ]
  },
  {
   "cell_type": "code",
   "execution_count": 57,
   "id": "f1d56d26-9109-49b2-a035-2444b8d6a3aa",
   "metadata": {},
   "outputs": [
    {
     "name": "stdout",
     "output_type": "stream",
     "text": [
      "1/1 [==============================] - 0s 21ms/step\n"
     ]
    },
    {
     "name": "stderr",
     "output_type": "stream",
     "text": [
      "\n",
      "A value is trying to be set on a copy of a slice from a DataFrame.\n",
      "Try using .loc[row_indexer,col_indexer] = value instead\n",
      "\n",
      "See the caveats in the documentation: https://pandas.pydata.org/pandas-docs/stable/user_guide/indexing.html#returning-a-view-versus-a-copy\n"
     ]
    }
   ],
   "source": [
    "# nba 2023 MVP prediction\n",
    "results = nba_2023[['PLAYER_NAME', 'TEAM_ABBREVIATION', 'season_id']]\n",
    "mvp_prediction = {}\n",
    "for key, model in trained_models.items():\n",
    "    predicted = model.predict(nba_2023_new)\n",
    "    predicted = predicted.reshape((nba_2023_new.shape[0],))\n",
    "    \n",
    "\n",
    "    results['Predicted MVP Share'] = pd.Series(predicted).values\n",
    "    results = results.loc[(results['season_id'] == '2022-23')]\n",
    "    # get top 10 results\n",
    "    results_sorted = results.sort_values(by='Predicted MVP Share',\n",
    "                                                ascending=False).reset_index(drop=True)\n",
    "    mvp_prediction[key] = results_sorted[0:3]"
   ]
  },
  {
   "cell_type": "code",
   "execution_count": 58,
   "id": "e1d0f794-3e72-4379-95db-35e52b55117c",
   "metadata": {},
   "outputs": [
    {
     "name": "stdout",
     "output_type": "stream",
     "text": [
      "3/3 [==============================] - 0s 918us/step\n"
     ]
    },
    {
     "name": "stderr",
     "output_type": "stream",
     "text": [
      "\n",
      "A value is trying to be set on a copy of a slice from a DataFrame.\n",
      "Try using .loc[row_indexer,col_indexer] = value instead\n",
      "\n",
      "See the caveats in the documentation: https://pandas.pydata.org/pandas-docs/stable/user_guide/indexing.html#returning-a-view-versus-a-copy\n",
      "\n",
      "A value is trying to be set on a copy of a slice from a DataFrame.\n",
      "Try using .loc[row_indexer,col_indexer] = value instead\n",
      "\n",
      "See the caveats in the documentation: https://pandas.pydata.org/pandas-docs/stable/user_guide/indexing.html#returning-a-view-versus-a-copy\n",
      "\n",
      "A value is trying to be set on a copy of a slice from a DataFrame.\n",
      "Try using .loc[row_indexer,col_indexer] = value instead\n",
      "\n",
      "See the caveats in the documentation: https://pandas.pydata.org/pandas-docs/stable/user_guide/indexing.html#returning-a-view-versus-a-copy\n"
     ]
    }
   ],
   "source": [
    "# nba 2019 to 2022 MVP prediction\n",
    "results = nba_2019_22[['PLAYER_NAME', 'TEAM_ABBREVIATION', 'season_id']]\n",
    "test_season_list = ['2019-20', '2020-21', '2021-22']\n",
    "model_past_mvp = {}\n",
    "for key, model in trained_models.items():\n",
    "    predicted = model.predict(nba_2019_22_new)\n",
    "    predicted = np.clip(predicted, 0, 1)\n",
    "    predicted = predicted.reshape((nba_2019_22_new.shape[0],))\n",
    "    \n",
    "    results['Predicted MVP Share'] = pd.Series(predicted).values\n",
    "    past_mvp = {}\n",
    "    for season in test_season_list:\n",
    "        season_results = results.loc[(results['season_id'] == season)]\n",
    "        season_results_sorted = season_results.sort_values(by='Predicted MVP Share',\n",
    "                                                ascending=False).reset_index(drop=True)\n",
    "        past_mvp[season] = season_results_sorted[0:3]\n",
    "    \n",
    "    model_past_mvp[key]  = past_mvp\n"
   ]
  },
  {
   "cell_type": "code",
   "execution_count": 59,
   "id": "af74920a-dca3-4d3f-aa1d-7a6635c90150",
   "metadata": {},
   "outputs": [
    {
     "data": {
      "text/plain": [
       "{'SVR': {'2019-20':              PLAYER_NAME TEAM_ABBREVIATION season_id  Predicted MVP Share\n",
       "  0  Giannis Antetokounmpo               MIL   2019-20             1.000000\n",
       "  1           James Harden               HOU   2019-20             0.539364\n",
       "  2           LeBron James               LAL   2019-20             0.502902,\n",
       "  '2020-21':              PLAYER_NAME TEAM_ABBREVIATION season_id  Predicted MVP Share\n",
       "  0           Nikola Jokic               DEN   2020-21             0.639179\n",
       "  1          Stephen Curry               GSW   2020-21             0.563400\n",
       "  2  Giannis Antetokounmpo               MIL   2020-21             0.555905,\n",
       "  '2021-22':              PLAYER_NAME TEAM_ABBREVIATION season_id  Predicted MVP Share\n",
       "  0           Nikola Jokic               DEN   2021-22             0.955808\n",
       "  1  Giannis Antetokounmpo               MIL   2021-22             0.695438\n",
       "  2            Joel Embiid               PHI   2021-22             0.612226},\n",
       " 'Gradient Boosting': {'2019-20':              PLAYER_NAME TEAM_ABBREVIATION season_id  Predicted MVP Share\n",
       "  0  Giannis Antetokounmpo               MIL   2019-20             0.694565\n",
       "  1           LeBron James               LAL   2019-20             0.520963\n",
       "  2           James Harden               HOU   2019-20             0.453605,\n",
       "  '2020-21':      PLAYER_NAME TEAM_ABBREVIATION season_id  Predicted MVP Share\n",
       "  0   Nikola Jokic               DEN   2020-21             0.629563\n",
       "  1    Joel Embiid               PHI   2020-21             0.584837\n",
       "  2  Stephen Curry               GSW   2020-21             0.317440,\n",
       "  '2021-22':              PLAYER_NAME TEAM_ABBREVIATION season_id  Predicted MVP Share\n",
       "  0           Nikola Jokic               DEN   2021-22             0.789347\n",
       "  1            Joel Embiid               PHI   2021-22             0.734859\n",
       "  2  Giannis Antetokounmpo               MIL   2021-22             0.667507},\n",
       " 'Random Forest': {'2019-20':              PLAYER_NAME TEAM_ABBREVIATION season_id  Predicted MVP Share\n",
       "  0  Giannis Antetokounmpo               MIL   2019-20              0.64890\n",
       "  1           James Harden               HOU   2019-20              0.44114\n",
       "  2            Luka Doncic               DAL   2019-20              0.39352,\n",
       "  '2020-21':      PLAYER_NAME TEAM_ABBREVIATION season_id  Predicted MVP Share\n",
       "  0   Nikola Jokic               DEN   2020-21              0.59362\n",
       "  1    Joel Embiid               PHI   2020-21              0.47220\n",
       "  2  Stephen Curry               GSW   2020-21              0.41514,\n",
       "  '2021-22':              PLAYER_NAME TEAM_ABBREVIATION season_id  Predicted MVP Share\n",
       "  0            Joel Embiid               PHI   2021-22              0.71296\n",
       "  1  Giannis Antetokounmpo               MIL   2021-22              0.64554\n",
       "  2           Nikola Jokic               DEN   2021-22              0.61448},\n",
       " 'Neural Network': {'2019-20':              PLAYER_NAME TEAM_ABBREVIATION season_id  Predicted MVP Share\n",
       "  0  Giannis Antetokounmpo               MIL   2019-20             1.000000\n",
       "  1           James Harden               HOU   2019-20             0.566268\n",
       "  2            Luka Doncic               DAL   2019-20             0.551864,\n",
       "  '2020-21':              PLAYER_NAME TEAM_ABBREVIATION season_id  Predicted MVP Share\n",
       "  0          Stephen Curry               GSW   2020-21             0.650781\n",
       "  1  Giannis Antetokounmpo               MIL   2020-21             0.548384\n",
       "  2           Nikola Jokic               DEN   2020-21             0.533213,\n",
       "  '2021-22':              PLAYER_NAME TEAM_ABBREVIATION season_id  Predicted MVP Share\n",
       "  0           Nikola Jokic               DEN   2021-22             0.836585\n",
       "  1  Giannis Antetokounmpo               MIL   2021-22             0.651637\n",
       "  2            Joel Embiid               PHI   2021-22             0.593350}}"
      ]
     },
     "execution_count": 59,
     "metadata": {},
     "output_type": "execute_result"
    }
   ],
   "source": [
    "model_past_mvp"
   ]
  },
  {
   "cell_type": "code",
   "execution_count": null,
   "id": "339755ec-dafc-42cd-8142-3916ead5c159",
   "metadata": {},
   "outputs": [],
   "source": [
    "trained_models"
   ]
  },
  {
   "cell_type": "code",
   "execution_count": null,
   "id": "b0cc5996-1ad2-4879-9e86-72978c3faffc",
   "metadata": {},
   "outputs": [],
   "source": []
  }
 ],
 "metadata": {
  "kernelspec": {
   "display_name": "Python [conda env:nba]",
   "language": "python",
   "name": "conda-env-nba-py"
  },
  "language_info": {
   "codemirror_mode": {
    "name": "ipython",
    "version": 3
   },
   "file_extension": ".py",
   "mimetype": "text/x-python",
   "name": "python",
   "nbconvert_exporter": "python",
   "pygments_lexer": "ipython3",
   "version": "3.9.15"
  }
 },
 "nbformat": 4,
 "nbformat_minor": 5
}
