{
 "cells": [
  {
   "cell_type": "code",
   "execution_count": 22,
   "id": "620c74bd-a4a3-4ea3-a46b-6f22219cb83a",
   "metadata": {},
   "outputs": [],
   "source": [
    "# import packages\n",
    "import requests\n",
    "import pandas as pd"
   ]
  },
  {
   "cell_type": "code",
   "execution_count": 23,
   "id": "53a51ddc-4ebd-49d6-8eb9-dd678ee0144e",
   "metadata": {},
   "outputs": [],
   "source": [
    "# define a season list for the project whihc is 2000-current\n",
    "season_list = ['2000-01', '2001-02', '2002-03', '2003-04', '2004-05', '2005-06', '2006-07', '2007-08', '2008-09', '2009-10', '2010-11',\n",
    "               '2011-12', '2012-13', '2013-14', '2014-15', '2015-16', '2016-17', '2017-18', '2018-19', '2019-20', '2020-21', '2021-22', '2022-23']\n",
    "# the stats we gather is 'PerGame'\n",
    "per_mode = 'PerGame'\n",
    "# normal_stats_column\n",
    "normal_column_list = [\"PLAYER_ID\", \"PLAYER_NAME\", \"NICKNAME\", \"TEAM_ID\", \"TEAM_ABBREVIATION\", \"AGE\", \"GP\", \"W\", \"L\", \"W_PCT\", \"MIN\", \"FGM\", \"FGA\", \"FG_PCT\",\n",
    "                       \"FG3M\", \"FG3A\", \"FG3_PCT\", \"FTM\", \"FTA\", \"FT_PCT\", \"OREB\", \"DREB\", \"REB\", \"AST\", \"TOV\", \"STL\", \"BLK\", \"BLKA\", \"PF\", \"PFD\",\n",
    "                       \"PTS\", \"PLUS_MINUS\", \"NBA_FANTASY_PTS\", \"DD2\", \"TD3\", \"WNBA_FANTASY_PTS\", \"GP_RANK\", \"W_RANK\", \"L_RANK\", \"W_PCT_RANK\", \"MIN_RANK\",\n",
    "                       \"FGM_RANK\", \"FGA_RANK\", \"FG_PCT_RANK\", \"FG3M_RANK\", \"FG3A_RANK\", \"FG3_PCT_RANK\", \"FTM_RANK\", \"FTA_RANK\", \"FT_PCT_RANK\", \"OREB_RANK\",\n",
    "                       \"DREB_RANK\", \"REB_RANK\", \"AST_RANK\", \"TOV_RANK\", \"STL_RANK\", \"BLK_RANK\", \"BLKA_RANK\", \"PF_RANK\", \"PFD_RANK\", \"PTS_RANK\", \"PLUS_MINUS_RANK\",\n",
    "                       \"NBA_FANTASY_PTS_RANK\", \"DD2_RANK\", \"TD3_RANK\", \"WNBA_FANTASY_PTS_RANK\"]\n",
    "\n",
    "# advanced stats column\n",
    "advanced_column_list = [\"PLAYER_ID\", \"PLAYER_NAME\", \"NICKNAME\", \"TEAM_ID\", \"TEAM_ABBREVIATION\", \"AGE\", \"GP\", \"W\", \"L\", \"W_PCT\", \"MIN\", \"E_OFF_RATING\", \"OFF_RATING\",\n",
    "                        \"sp_work_OFF_RATING\", \"E_DEF_RATING\", \"DEF_RATING\", \"sp_work_DEF_RATING\", \"E_NET_RATING\", \"NET_RATING\", \"sp_work_NET_RATING\", \"AST_PCT\",\n",
    "                         \"AST_TO\", \"AST_RATIO\", \"OREB_PCT\", \"DREB_PCT\", \"REB_PCT\", \"TM_TOV_PCT\", \"E_TOV_PCT\", \"EFG_PCT\", \"TS_PCT\", \"USG_PCT\", \"E_USG_PCT\", \"E_PACE\", \"PACE\",\n",
    "                         \"PACE_PER40\", \"sp_work_PACE\", \"PIE\", \"POSS\", \"FGM\", \"FGA\", \"FGM_PG\", \"FGA_PG\", \"FG_PCT\", \"GP_RANK\", \"W_RANK\", \"L_RANK\", \"W_PCT_RANK\", \"MIN_RANK\",\n",
    "                        \"E_OFF_RATING_RANK\", \"OFF_RATING_RANK\", \"sp_work_OFF_RATING_RANK\", \"E_DEF_RATING_RANK\", \"DEF_RATING_RANK\", \"sp_work_DEF_RATING_RANK\",\n",
    "                        \"E_NET_RATING_RANK\", \"NET_RATING_RANK\", \"sp_work_NET_RATING_RANK\", \"AST_PCT_RANK\", \"AST_TO_RANK\", \"AST_RATIO_RANK\", \"OREB_PCT_RANK\",\n",
    "                        \"DREB_PCT_RANK\", \"REB_PCT_RANK\", \"TM_TOV_PCT_RANK\", \"E_TOV_PCT_RANK\", \"EFG_PCT_RANK\", \"TS_PCT_RANK\", \"USG_PCT_RANK\", \"E_USG_PCT_RANK\",\n",
    "                        \"E_PACE_RANK\", \"PACE_RANK\", \"sp_work_PACE_RANK\", \"PIE_RANK\", \"FGM_RANK\", \"FGA_RANK\", \"FGM_PG_RANK\", \"FGA_PG_RANK\", \"FG_PCT_RANK\"]\n",
    "\n",
    "team_column_list = [\"TEAM_ID\", \"TEAM_NAME\", \"GP\", \"W\", \"L\", \"W_PCT\", \"MIN\", \"FGM\", \"FGA\", \"FG_PCT\", \"FG3M\", \"FG3A\", \"FG3_PCT\", \"FTM\", \"FTA\", \"FT_PCT\", \"OREB\",\n",
    "                     \"DREB\", \"REB\", \"AST\", \"TOV\", \"STL\", \"BLK\", \"BLKA\", \"PF\", \"PFD\", \"PTS\", \"PLUS_MINUS\", \"GP_RANK\", \"W_RANK\", \"L_RANK\", \"W_PCT_RANK\", \"MIN_RANK\",    \n",
    "                    \"FGM_RANK\", \"FGA_RANK\", \"FG_PCT_RANK\", \"FG3M_RANK\", \"FG3A_RANK\", \"FG3_PCT_RANK\", \"FTM_RANK\", \"FTA_RANK\", \"FT_PCT_RANK\", \"OREB_RANK\", \"DREB_RANK\",\n",
    "                    \"REB_RANK\", \"AST_RANK\", \"TOV_RANK\", \"STL_RANK\", \"BLK_RANK\", \"BLKA_RANK\", \"PF_RANK\", \"PFD_RANK\", \"PTS_RANK\", \"PLUS_MINUS_RANK\"]\n",
    "\n",
    "team_adv_list = [\"TEAM_ID\", \"TEAM_NAME\", \"GP\", \"W\", \"L\", \"W_PCT\", \"MIN\", \"E_OFF_RATING\", \"OFF_RATING\", \"E_DEF_RATING\", \"DEF_RATING\", \"E_NET_RATING\", \n",
    "                 \"NET_RATING\", \"AST_PCT\", \"AST_TO\", \"AST_RATIO\", \"OREB_PCT\", \"DREB_PCT\", \"REB_PCT\", \"TM_TOV_PCT\", \"EFG_PCT\", \"TS_PCT\", \"E_PACE\", \"PACE\",\n",
    "                 \"PACE_PER40\", \"POSS\", \"PIE\", \"GP_RANK\", \"W_RANK\", \"L_RANK\", \"W_PCT_RANK\", \"MIN_RANK\", \"OFF_RATING_RANK\", \"DEF_RATING_RANK\",\n",
    "                 \"NET_RATING_RANK\", \"AST_PCT_RANK\", \"AST_TO_RANK\", \"AST_RATIO_RANK\", \"OREB_PCT_RANK\", \"DREB_PCT_RANK\", \"REB_PCT_RANK\", \"TM_TOV_PCT_RANK\",\n",
    "                 \"EFG_PCT_RANK\", \"TS_PCT_RANK\", \"PACE_RANK\", \"PIE_RANK\"]"
   ]
  },
  {
   "cell_type": "code",
   "execution_count": 24,
   "id": "c6b4f47b-0b4b-456b-8f89-250444427e36",
   "metadata": {},
   "outputs": [],
   "source": [
    "# headers for requests to scrap data from nba.com\n",
    "headers = {\n",
    "    'Accept': '*/*',\n",
    "    'Origin': 'https://www.nba.com',\n",
    "    'Accept-Encoding': 'gzip, deflate, br',\n",
    "    'Host': 'stats.nba.com',\n",
    "    'User-Agent': 'Mozilla/5.0 (Macintosh; Intel Mac OS X 10_15_7) AppleWebKit/605.1.15 (KHTML, like Gecko) Version/15.1 Safari/605.1.15',\n",
    "    'Accept-Language': 'en-US,en;q=0.9',\n",
    "    'Referer': 'https://www.nba.com/',\n",
    "    'Connection': 'keep-alive',\n",
    "}"
   ]
  },
  {
   "cell_type": "code",
   "execution_count": 25,
   "id": "167a9441-e5ab-425a-9b95-629eb287775a",
   "metadata": {},
   "outputs": [
    {
     "name": "stdout",
     "output_type": "stream",
     "text": [
      "2000-01\n",
      "2001-02\n",
      "2002-03\n",
      "2003-04\n",
      "2004-05\n",
      "2005-06\n",
      "2006-07\n",
      "2007-08\n",
      "2008-09\n",
      "2009-10\n",
      "2010-11\n",
      "2011-12\n",
      "2012-13\n",
      "2013-14\n",
      "2014-15\n",
      "2015-16\n",
      "2016-17\n",
      "2017-18\n",
      "2018-19\n",
      "2019-20\n",
      "2020-21\n",
      "2021-22\n",
      "2022-23\n"
     ]
    }
   ],
   "source": [
    "# get all past normal data\n",
    "dfs = []\n",
    "for season_id in season_list:\n",
    "    player_info_url =  'https://stats.nba.com/stats/leaguedashplayerstats?College=&Conference=&Country=&DateFrom=&DateTo=&Division=&DraftPick=&DraftYear=&GameScope=&GameSegment=&Height=&LastNGames=0&LeagueID=00&Location=&MeasureType=Base&Month=0&OpponentTeamID=0&Outcome=&PORound=0&PaceAdjust=N&PerMode={}&Period=0&PlayerExperience=&PlayerPosition=&PlusMinus=N&Rank=N&Season={}&SeasonSegment=&SeasonType=Regular%20Season&ShotClockRange=&StarterBench=&TeamID=0&VsConference=&VsDivision=&Weight='.format(per_mode, season_id)\n",
    "    response = requests.get(url = player_info_url, headers = headers).json()\n",
    "    player_info = response['resultSets'][0]['rowSet']\n",
    "    df = pd.DataFrame(player_info, columns = normal_column_list)\n",
    "    df['season_id'] = season_id\n",
    "    print(season_id)\n",
    "    dfs.append(df)\n",
    "    \n",
    "normal_stats = pd.concat(dfs, sort = False)\n",
    "normal_stats.to_csv('./data/normal_stats_2000_23.csv', index = False)"
   ]
  },
  {
   "cell_type": "code",
   "execution_count": 26,
   "id": "9abe449b-dca7-4154-b657-d3d010c5688e",
   "metadata": {},
   "outputs": [
    {
     "name": "stdout",
     "output_type": "stream",
     "text": [
      "2000-01\n",
      "2001-02\n",
      "2002-03\n",
      "2003-04\n",
      "2004-05\n",
      "2005-06\n",
      "2006-07\n",
      "2007-08\n",
      "2008-09\n",
      "2009-10\n",
      "2010-11\n",
      "2011-12\n",
      "2012-13\n",
      "2013-14\n",
      "2014-15\n",
      "2015-16\n",
      "2016-17\n",
      "2017-18\n",
      "2018-19\n",
      "2019-20\n",
      "2020-21\n",
      "2021-22\n",
      "2022-23\n"
     ]
    }
   ],
   "source": [
    "# get all past advanced stats data\n",
    "advanced_dfs = []\n",
    "for season_id in season_list:\n",
    "    player_info_url =  'https://stats.nba.com/stats/leaguedashplayerstats?College=&Conference=&Country=&DateFrom=&DateTo=&Division=&DraftPick=&DraftYear=&GameScope=&GameSegment=&Height=&LastNGames=0&LeagueID=00&Location=&MeasureType=Advanced&Month=0&OpponentTeamID=0&Outcome=&PORound=0&PaceAdjust=N&PerMode={}&Period=0&PlayerExperience=&PlayerPosition=&PlusMinus=N&Rank=N&Season={}&SeasonSegment=&SeasonType=Regular%20Season&ShotClockRange=&StarterBench=&TeamID=0&VsConference=&VsDivision=&Weight='.format(per_mode, season_id)\n",
    "    response = requests.get(url = player_info_url, headers = headers).json()\n",
    "    player_info = response['resultSets'][0]['rowSet']\n",
    "    df = pd.DataFrame(player_info, columns = advanced_column_list)\n",
    "    df['season_id'] = season_id\n",
    "    print(season_id)\n",
    "    advanced_dfs.append(df)"
   ]
  },
  {
   "cell_type": "code",
   "execution_count": 27,
   "id": "2784dcf9-305c-44ca-badc-393e8f3ab9a6",
   "metadata": {},
   "outputs": [],
   "source": [
    "advanced_stats = pd.concat(advanced_dfs, sort = False)\n",
    "advanced_stats.to_csv('./data/advanced_stats_2000_23.csv', index = False)"
   ]
  },
  {
   "cell_type": "code",
   "execution_count": 28,
   "id": "c5c9f06b-c8d4-48a5-aa07-aa5f37c14d6a",
   "metadata": {},
   "outputs": [],
   "source": [
    "# join general stats and advanced stats together\n",
    "# since there are repeated columns between normal_stats and advanced_stats, use '_y' to indicate the duplicates and drop them after left-joining them\n",
    "all_stats = pd.merge(normal_stats, advanced_stats, on= ['PLAYER_ID', 'season_id'], how = 'left', suffixes=('', '_y'))\n",
    "all_stats.drop(all_stats.filter(regex='_y$').columns, axis=1, inplace=True)\n",
    "all_stats.to_csv('./data/all_stats_2000_23.csv', index = False)"
   ]
  },
  {
   "cell_type": "code",
   "execution_count": 29,
   "id": "1109856f-f1a7-4b21-9600-ffbea07914d1",
   "metadata": {},
   "outputs": [],
   "source": [
    "# get team list\n",
    "player_info_url = 'https://stats.nba.com/stats/leaguedashteamstats?Conference=&DateFrom=&DateTo=&Division=&GameScope=&GameSegment=&Height=&LastNGames=0&LeagueID=00&Location=&MeasureType=Base&Month=0&OpponentTeamID=0&Outcome=&PORound=0&PaceAdjust=N&PerMode=PerGame&Period=0&PlayerExperience=&PlayerPosition=&PlusMinus=N&Rank=N&Season=2022-23&SeasonSegment=&SeasonType=Regular%20Season&ShotClockRange=&StarterBench=&TeamID=0&TwoWay=0&VsConference=&VsDivision='\n",
    "response = requests.get(url = player_info_url, headers = headers).json()\n",
    "team_info = response['resultSets'][0]['rowSet']\n",
    "team_stats = pd.DataFrame(team_info, columns = team_column_list)\n",
    "team_stats.to_csv('./data/team_stats_2022_23.csv', index = False)"
   ]
  },
  {
   "cell_type": "code",
   "execution_count": 30,
   "id": "9dbf0885-7c32-4ac0-808f-3643d3865502",
   "metadata": {},
   "outputs": [],
   "source": [
    "# get team post advanced stats\n",
    "team_adv_url = 'https://stats.nba.com/stats/leaguedashteamstats?Conference=&DateFrom=&DateTo=&Division=&GameScope=&GameSegment=&Height=&LastNGames=0&LeagueID=00&Location=&MeasureType=Advanced&Month=0&OpponentTeamID=0&Outcome=&PORound=0&PaceAdjust=N&PerMode=PerGame&Period=0&PlayerExperience=&PlayerPosition=&PlusMinus=N&Rank=N&Season=2022-23&SeasonSegment=Post%20All-Star&SeasonType=Regular%20Season&ShotClockRange=&StarterBench=&TeamID=0&TwoWay=0&VsConference=&VsDivision='\n",
    "response = requests.get(url = team_adv_url, headers = headers).json()\n",
    "team_adv_info = response['resultSets'][0]['rowSet']\n",
    "team_adv_stats = pd.DataFrame(team_adv_info, columns = team_adv_list)\n",
    "team_adv_stats.to_csv('./data/team_adv_stats_2022_23.csv', index = False)"
   ]
  },
  {
   "cell_type": "code",
   "execution_count": 8,
   "id": "51236009-d5f7-4bbc-8751-bac04f27c4c3",
   "metadata": {},
   "outputs": [],
   "source": [
    "# import and combine all mvp lists\n",
    "mvp_season_list = ['2000-01', '2001-02', '2002-03', '2003-04', '2004-05', '2005-06', '2006-07', '2007-08', '2008-09', '2009-10', '2010-11',\n",
    "               '2011-12', '2012-13', '2013-14', '2014-15', '2015-16', '2016-17', '2017-18', '2018-19', '2019-20', '2020-21', '2021-22']"
   ]
  },
  {
   "cell_type": "code",
   "execution_count": 21,
   "id": "2c3883e8-83ee-4161-a6d5-5b3dbfde3549",
   "metadata": {},
   "outputs": [],
   "source": [
    "# loop through the season and append it to a list\n",
    "past_mvps = []\n",
    "for mvp_season in mvp_season_list :\n",
    "    mvp = pd.read_csv('./data/mvp/'+mvp_season+'_mvp.csv', skiprows = 1)\n",
    "    mvp = mvp.drop(labels='-9999', axis=1)\n",
    "    mvp['season_id'] = mvp_season\n",
    "    past_mvps.append(mvp)\n",
    "# since each \"mvp\" is still separated, we use concat to merge them\n",
    "past_mvps = pd.concat(past_mvps, sort = False)\n",
    "# since we use \"append\" the indices are messed up, reset the indices\n",
    "past_mvps.reset_index(drop = True, inplace = True)"
   ]
  },
  {
   "cell_type": "code",
   "execution_count": 22,
   "id": "b5fe573a-dff3-4416-93b6-45adf59ed890",
   "metadata": {},
   "outputs": [],
   "source": [
    "# export long list of past mvps for next stage use\n",
    "past_mvps.to_csv('./data/past_mvps_2000_22.csv', index = False)"
   ]
  }
 ],
 "metadata": {
  "kernelspec": {
   "display_name": "Python [conda env:nba]",
   "language": "python",
   "name": "conda-env-nba-py"
  },
  "language_info": {
   "codemirror_mode": {
    "name": "ipython",
    "version": 3
   },
   "file_extension": ".py",
   "mimetype": "text/x-python",
   "name": "python",
   "nbconvert_exporter": "python",
   "pygments_lexer": "ipython3",
   "version": "3.9.15"
  }
 },
 "nbformat": 4,
 "nbformat_minor": 5
}
